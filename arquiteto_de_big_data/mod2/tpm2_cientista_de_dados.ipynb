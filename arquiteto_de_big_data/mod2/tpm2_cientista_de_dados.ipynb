{
 "cells": [
  {
   "cell_type": "code",
   "execution_count": 1,
   "id": "e6029700-98e0-4046-942a-204de3560eb7",
   "metadata": {},
   "outputs": [],
   "source": [
    "import pandas as pd\n",
    "import warnings\n",
    "warnings.filterwarnings('ignore')"
   ]
  },
  {
   "cell_type": "code",
   "execution_count": 2,
   "id": "0dd85563-dfa4-4fd4-99b4-d07b6a1113bf",
   "metadata": {},
   "outputs": [],
   "source": [
    "path = \"C:/Users/jonat/Documents/xpe/arquiteto_de_big_data/mod2//cientista de dados/all_stocks_5yr.csv\"\n"
   ]
  },
  {
   "cell_type": "code",
   "execution_count": 4,
   "id": "bc952a18",
   "metadata": {},
   "outputs": [
    {
     "data": {
      "text/html": [
       "<div>\n",
       "<style scoped>\n",
       "    .dataframe tbody tr th:only-of-type {\n",
       "        vertical-align: middle;\n",
       "    }\n",
       "\n",
       "    .dataframe tbody tr th {\n",
       "        vertical-align: top;\n",
       "    }\n",
       "\n",
       "    .dataframe thead th {\n",
       "        text-align: right;\n",
       "    }\n",
       "</style>\n",
       "<table border=\"1\" class=\"dataframe\">\n",
       "  <thead>\n",
       "    <tr style=\"text-align: right;\">\n",
       "      <th></th>\n",
       "      <th>date</th>\n",
       "      <th>open</th>\n",
       "      <th>high</th>\n",
       "      <th>low</th>\n",
       "      <th>close</th>\n",
       "      <th>volume</th>\n",
       "      <th>Name</th>\n",
       "    </tr>\n",
       "  </thead>\n",
       "  <tbody>\n",
       "    <tr>\n",
       "      <th>0</th>\n",
       "      <td>2013-02-08</td>\n",
       "      <td>15.07</td>\n",
       "      <td>15.12</td>\n",
       "      <td>14.63</td>\n",
       "      <td>14.75</td>\n",
       "      <td>8407500</td>\n",
       "      <td>AAL</td>\n",
       "    </tr>\n",
       "    <tr>\n",
       "      <th>1</th>\n",
       "      <td>2013-02-11</td>\n",
       "      <td>14.89</td>\n",
       "      <td>15.01</td>\n",
       "      <td>14.26</td>\n",
       "      <td>14.46</td>\n",
       "      <td>8882000</td>\n",
       "      <td>AAL</td>\n",
       "    </tr>\n",
       "    <tr>\n",
       "      <th>2</th>\n",
       "      <td>2013-02-12</td>\n",
       "      <td>14.45</td>\n",
       "      <td>14.51</td>\n",
       "      <td>14.10</td>\n",
       "      <td>14.27</td>\n",
       "      <td>8126000</td>\n",
       "      <td>AAL</td>\n",
       "    </tr>\n",
       "    <tr>\n",
       "      <th>3</th>\n",
       "      <td>2013-02-13</td>\n",
       "      <td>14.30</td>\n",
       "      <td>14.94</td>\n",
       "      <td>14.25</td>\n",
       "      <td>14.66</td>\n",
       "      <td>10259500</td>\n",
       "      <td>AAL</td>\n",
       "    </tr>\n",
       "    <tr>\n",
       "      <th>4</th>\n",
       "      <td>2013-02-14</td>\n",
       "      <td>14.94</td>\n",
       "      <td>14.96</td>\n",
       "      <td>13.16</td>\n",
       "      <td>13.99</td>\n",
       "      <td>31879900</td>\n",
       "      <td>AAL</td>\n",
       "    </tr>\n",
       "    <tr>\n",
       "      <th>...</th>\n",
       "      <td>...</td>\n",
       "      <td>...</td>\n",
       "      <td>...</td>\n",
       "      <td>...</td>\n",
       "      <td>...</td>\n",
       "      <td>...</td>\n",
       "      <td>...</td>\n",
       "    </tr>\n",
       "    <tr>\n",
       "      <th>619035</th>\n",
       "      <td>2018-02-01</td>\n",
       "      <td>76.84</td>\n",
       "      <td>78.27</td>\n",
       "      <td>76.69</td>\n",
       "      <td>77.82</td>\n",
       "      <td>2982259</td>\n",
       "      <td>ZTS</td>\n",
       "    </tr>\n",
       "    <tr>\n",
       "      <th>619036</th>\n",
       "      <td>2018-02-02</td>\n",
       "      <td>77.53</td>\n",
       "      <td>78.12</td>\n",
       "      <td>76.73</td>\n",
       "      <td>76.78</td>\n",
       "      <td>2595187</td>\n",
       "      <td>ZTS</td>\n",
       "    </tr>\n",
       "    <tr>\n",
       "      <th>619037</th>\n",
       "      <td>2018-02-05</td>\n",
       "      <td>76.64</td>\n",
       "      <td>76.92</td>\n",
       "      <td>73.18</td>\n",
       "      <td>73.83</td>\n",
       "      <td>2962031</td>\n",
       "      <td>ZTS</td>\n",
       "    </tr>\n",
       "    <tr>\n",
       "      <th>619038</th>\n",
       "      <td>2018-02-06</td>\n",
       "      <td>72.74</td>\n",
       "      <td>74.56</td>\n",
       "      <td>72.13</td>\n",
       "      <td>73.27</td>\n",
       "      <td>4924323</td>\n",
       "      <td>ZTS</td>\n",
       "    </tr>\n",
       "    <tr>\n",
       "      <th>619039</th>\n",
       "      <td>2018-02-07</td>\n",
       "      <td>72.70</td>\n",
       "      <td>75.00</td>\n",
       "      <td>72.69</td>\n",
       "      <td>73.86</td>\n",
       "      <td>4534912</td>\n",
       "      <td>ZTS</td>\n",
       "    </tr>\n",
       "  </tbody>\n",
       "</table>\n",
       "<p>619040 rows × 7 columns</p>\n",
       "</div>"
      ],
      "text/plain": [
       "              date   open   high    low  close    volume Name\n",
       "0       2013-02-08  15.07  15.12  14.63  14.75   8407500  AAL\n",
       "1       2013-02-11  14.89  15.01  14.26  14.46   8882000  AAL\n",
       "2       2013-02-12  14.45  14.51  14.10  14.27   8126000  AAL\n",
       "3       2013-02-13  14.30  14.94  14.25  14.66  10259500  AAL\n",
       "4       2013-02-14  14.94  14.96  13.16  13.99  31879900  AAL\n",
       "...            ...    ...    ...    ...    ...       ...  ...\n",
       "619035  2018-02-01  76.84  78.27  76.69  77.82   2982259  ZTS\n",
       "619036  2018-02-02  77.53  78.12  76.73  76.78   2595187  ZTS\n",
       "619037  2018-02-05  76.64  76.92  73.18  73.83   2962031  ZTS\n",
       "619038  2018-02-06  72.74  74.56  72.13  73.27   4924323  ZTS\n",
       "619039  2018-02-07  72.70  75.00  72.69  73.86   4534912  ZTS\n",
       "\n",
       "[619040 rows x 7 columns]"
      ]
     },
     "execution_count": 4,
     "metadata": {},
     "output_type": "execute_result"
    }
   ],
   "source": [
    "df = pd.read_csv(path, sep=',', encoding='latin-1')\n",
    "df"
   ]
  },
  {
   "cell_type": "markdown",
   "id": "b01de437-cfc0-4555-90c4-a6c91870c6a1",
   "metadata": {},
   "source": [
    "## Pergunta 1\n",
    "## Quantos registros há na planilha?\n"
   ]
  },
  {
   "cell_type": "code",
   "execution_count": 5,
   "id": "c2278151",
   "metadata": {},
   "outputs": [
    {
     "name": "stdout",
     "output_type": "stream",
     "text": [
      "Número de registros na planilha: 619040\n"
     ]
    }
   ],
   "source": [
    "# Obtém a contagem de registros (linhas) e colunas\n",
    "num_rows, num_columns = df.shape\n",
    "\n",
    "print(f\"Número de registros na planilha: {num_rows}\")\n"
   ]
  },
  {
   "cell_type": "markdown",
   "id": "8a296115-00b4-4888-aaa7-8f10b31d68be",
   "metadata": {},
   "source": [
    "## Pergunta 2\n",
    "## Quantos registros há na planilha para a ação da Apple (AAPL)?\n"
   ]
  },
  {
   "cell_type": "code",
   "execution_count": 6,
   "id": "442ee7e9-e210-422c-97f0-bbab352270a9",
   "metadata": {},
   "outputs": [
    {
     "name": "stdout",
     "output_type": "stream",
     "text": [
      "Número de registros para a ação da Apple (AAPL): 1259\n"
     ]
    }
   ],
   "source": [
    "# Filtra o DataFrame para incluir apenas a ação da Apple (AAPL)\n",
    "aapl_df = df[df['Name'] == 'AAPL']\n",
    "\n",
    "# Obtém a contagem de registros para a ação da Apple\n",
    "num_rows_aapl = aapl_df.shape[0]\n",
    "\n",
    "print(f\"Número de registros para a ação da Apple (AAPL): {num_rows_aapl}\")"
   ]
  },
  {
   "cell_type": "markdown",
   "id": "2a163f4d-030e-47f6-b02e-cf09f997efe6",
   "metadata": {},
   "source": [
    "## Pergunta 3\n",
    "## Quantas empresas distintas têm registros nessa planilha?\n"
   ]
  },
  {
   "cell_type": "code",
   "execution_count": 7,
   "id": "b988f166-e7bd-4566-ba17-6611e77b9973",
   "metadata": {},
   "outputs": [
    {
     "name": "stdout",
     "output_type": "stream",
     "text": [
      "Número de empresas distintas na planilha: 505\n"
     ]
    }
   ],
   "source": [
    "# Conta o número de empresas distintas na coluna 'Name'\n",
    "num_empresas_distintas = df['Name'].nunique()\n",
    "\n",
    "print(f\"Número de empresas distintas na planilha: {num_empresas_distintas}\")\n"
   ]
  },
  {
   "cell_type": "markdown",
   "id": "b703e7b0-4f11-4701-9589-e66215b92a5d",
   "metadata": {},
   "source": [
    "## Pergunta 4\n",
    "## Com qual frequência o preço de uma ação no fechamento é maior do que o preço na abertura?\n"
   ]
  },
  {
   "cell_type": "code",
   "execution_count": 8,
   "id": "eadf960a-2296-4673-a6ca-8dfb4049ddd7",
   "metadata": {},
   "outputs": [
    {
     "name": "stdout",
     "output_type": "stream",
     "text": [
      "Frequência de fechamento maior que abertura: 318970 vezes\n",
      "Proporção: 51.53%\n"
     ]
    }
   ],
   "source": [
    "\n",
    "# Calcula a frequência\n",
    "frequencia = (df['close'] > df['open']).sum()\n",
    "\n",
    "# Calcula a proporção em relação ao número total de registros\n",
    "proporcao = frequencia / len(df)\n",
    "\n",
    "print(f\"Frequência de fechamento maior que abertura: {frequencia} vezes\")\n",
    "print(f\"Proporção: {proporcao:.2%}\")"
   ]
  },
  {
   "cell_type": "markdown",
   "id": "c3b68799-a81a-471f-890d-7bc06ed2009d",
   "metadata": {},
   "source": [
    "## Pergunta 5\n",
    "## Qual o maior valor das ações da Apple (AAPL) na história?"
   ]
  },
  {
   "cell_type": "code",
   "execution_count": 9,
   "id": "b57cc739-30cc-4583-87a8-7777a352c084",
   "metadata": {},
   "outputs": [
    {
     "name": "stdout",
     "output_type": "stream",
     "text": [
      "Maior valor das ações da Apple (AAPL) na história: 180.1\n"
     ]
    }
   ],
   "source": [
    "\n",
    "# Filtra o DataFrame para incluir apenas a ação da Apple (AAPL)\n",
    "aapl_df = df[df['Name'] == 'AAPL']\n",
    "\n",
    "# Encontra o maior valor na coluna 'high' para a AAPL\n",
    "maior_valor_aapl = aapl_df['high'].max()\n",
    "\n",
    "print(f\"Maior valor das ações da Apple (AAPL) na história: {maior_valor_aapl}\")\n"
   ]
  },
  {
   "cell_type": "markdown",
   "id": "1115aea8-ef90-41f5-8f16-917093c1bf06",
   "metadata": {},
   "source": [
    "## Pergunta 6\n",
    "## Qual ação tem a maior volatilidade? Uma forma é medir o desvio-padrão do preço de fechamento de cada ação e considerar a ação de maior desvio-padrão.\r\n"
   ]
  },
  {
   "cell_type": "code",
   "execution_count": 10,
   "id": "0891f9c6-adf1-47e8-a8f4-9a36f9b7b5e0",
   "metadata": {},
   "outputs": [
    {
     "name": "stdout",
     "output_type": "stream",
     "text": [
      "Ação com a maior volatilidade: PCLN\n",
      "Maior volatilidade: 320.533473018748\n"
     ]
    }
   ],
   "source": [
    "\n",
    "# Calcula o desvio-padrão do preço de fechamento para cada ação\n",
    "volatilidade_por_acao = df.groupby('Name')['close'].std()\n",
    "\n",
    "# Encontra a ação com a maior volatilidade\n",
    "acao_maior_volatilidade = volatilidade_por_acao.idxmax()\n",
    "maior_volatilidade = volatilidade_por_acao.max()\n",
    "\n",
    "print(f\"Ação com a maior volatilidade: {acao_maior_volatilidade}\")\n",
    "print(f\"Maior volatilidade: {maior_volatilidade}\")"
   ]
  },
  {
   "cell_type": "markdown",
   "id": "dd477ae5-3705-4d95-b464-479770100c2c",
   "metadata": {},
   "source": [
    "## Pergunta 7\n",
    "## Qual o dia com maior volume total de negociação da bolsa?\r\n"
   ]
  },
  {
   "cell_type": "code",
   "execution_count": 11,
   "id": "db3e4f2a-35bf-4233-9517-aed46aae5d8e",
   "metadata": {},
   "outputs": [
    {
     "name": "stdout",
     "output_type": "stream",
     "text": [
      "Dia com maior volume total de negociação: 2015-08-24 00:00:00\n",
      "Maior volume total: 4607945196\n"
     ]
    }
   ],
   "source": [
    "\n",
    "# Converte a coluna 'date' para o tipo datetime para facilitar manipulações\n",
    "df['date'] = pd.to_datetime(df['date'])\n",
    "\n",
    "# Calcula o volume total para cada dia\n",
    "volume_total_por_dia = df.groupby('date')['volume'].sum()\n",
    "\n",
    "# Encontra o dia com o maior volume total\n",
    "dia_maior_volume = volume_total_por_dia.idxmax()\n",
    "maior_volume = volume_total_por_dia.max()\n",
    "\n",
    "print(f\"Dia com maior volume total de negociação: {dia_maior_volume}\")\n",
    "print(f\"Maior volume total: {maior_volume}\")"
   ]
  },
  {
   "cell_type": "markdown",
   "id": "4a7f28fc-5e4a-499f-8e27-b292dac9ac49",
   "metadata": {},
   "source": [
    "## Pergunta 8\n",
    "## Qual a ação mais negociada da bolsa, em volume de transações?\r\n",
    "\r\n"
   ]
  },
  {
   "cell_type": "code",
   "execution_count": 12,
   "id": "37bc7b4f-ed4d-4845-b3ca-c1b4df3b9b0d",
   "metadata": {},
   "outputs": [
    {
     "name": "stdout",
     "output_type": "stream",
     "text": [
      "Ação mais negociada em volume de transações: BAC\n",
      "Maior volume negociado: 117884953591\n"
     ]
    }
   ],
   "source": [
    "\n",
    "# Calcula o volume total para cada ação\n",
    "volume_total_por_acao = df.groupby('Name')['volume'].sum()\n",
    "\n",
    "# Encontra a ação mais negociada\n",
    "acao_mais_negociada = volume_total_por_acao.idxmax()\n",
    "maior_volume_negociado = volume_total_por_acao.max()\n",
    "\n",
    "print(f\"Ação mais negociada em volume de transações: {acao_mais_negociada}\")\n",
    "print(f\"Maior volume negociado: {maior_volume_negociado}\")"
   ]
  },
  {
   "cell_type": "markdown",
   "id": "89fc2b78-2591-425b-ae82-b3f57aa39c0c",
   "metadata": {},
   "source": [
    "## Pergunta 9\n",
    "## Quantas ações começam com a letra “A”?\n",
    "\r\n"
   ]
  },
  {
   "cell_type": "code",
   "execution_count": 30,
   "id": "cd5ed3ee-06d5-4b68-ada9-cc87e6242d2a",
   "metadata": {},
   "outputs": [
    {
     "name": "stdout",
     "output_type": "stream",
     "text": [
      "Número de ações distintas que começam com a letra 'A': 59\n"
     ]
    }
   ],
   "source": [
    "# Filtra as ações que começam com a letra \"A\"\n",
    "acoes_com_a = df[df['Name'].str.startswith('A')]\n",
    "\n",
    "# Conta o número de ações distintas que começam com \"A\"\n",
    "num_acoes_distintas_com_a = acoes_com_a['Name'].nunique()\n",
    "\n",
    "print(f\"Número de ações distintas que começam com a letra 'A': {num_acoes_distintas_com_a}\")"
   ]
  },
  {
   "cell_type": "markdown",
   "id": "9d86bcd4-08d4-4aa8-a7e1-68adf4d57cce",
   "metadata": {},
   "source": [
    "## Pergunta 10\n",
    "## Com qual frequência o preço mais alto do dia da ação também é o preço de fechamento?\r\n",
    "\n",
    "\r\n"
   ]
  },
  {
   "cell_type": "code",
   "execution_count": 14,
   "id": "bb47b6bb-92d0-43cf-bfd7-70a8f2d2362d",
   "metadata": {},
   "outputs": [
    {
     "name": "stdout",
     "output_type": "stream",
     "text": [
      "Frequência de preço mais alto igual ao preço de fechamento: 7420 vezes\n",
      "Proporção: 1.20%\n"
     ]
    }
   ],
   "source": [
    "# Calcula a frequência\n",
    "frequencia_precos_iguais = (df['high'] == df['close']).sum()\n",
    "\n",
    "# Calcula a proporção em relação ao número total de registros\n",
    "proporcao_precos_iguais = frequencia_precos_iguais / len(df)\n",
    "\n",
    "print(f\"Frequência de preço mais alto igual ao preço de fechamento: {frequencia_precos_iguais} vezes\")\n",
    "print(f\"Proporção: {proporcao_precos_iguais:.2%}\")"
   ]
  },
  {
   "cell_type": "markdown",
   "id": "77cbf2e9-93ce-45a4-836d-4c2824e4fbba",
   "metadata": {},
   "source": [
    "## Pergunta 11\n",
    "## Em qual dia a ação da Apple mais subiu entre a abertura e o fechamento, de forma absoluta?\r\n",
    "\r\n",
    "\n",
    "\r\n"
   ]
  },
  {
   "cell_type": "code",
   "execution_count": 15,
   "id": "c30e30ce-b59d-4028-853c-fca9f8799139",
   "metadata": {},
   "outputs": [
    {
     "name": "stdout",
     "output_type": "stream",
     "text": [
      "Dia em que a ação da Apple mais subiu em termos absolutos: 2015-08-24 00:00:00\n",
      "Subida máxima em termos absolutos: 8.25\n"
     ]
    }
   ],
   "source": [
    "# Filtra o DataFrame para incluir apenas a ação da Apple (AAPL)\n",
    "aapl_df = df[df['Name'] == 'AAPL']\n",
    "\n",
    "# Cria uma nova coluna com a diferença absoluta entre fechamento e abertura\n",
    "aapl_df['dif_abs'] = abs(aapl_df['close'] - aapl_df['open'])\n",
    "\n",
    "# Encontra o dia em que a ação da Apple mais subiu em termos absolutos\n",
    "dia_max_subida_absoluta = aapl_df.loc[aapl_df['dif_abs'].idxmax()]['date']\n",
    "subida_maxima_absoluta = aapl_df['dif_abs'].max()\n",
    "\n",
    "print(f\"Dia em que a ação da Apple mais subiu em termos absolutos: {dia_max_subida_absoluta}\")\n",
    "print(f\"Subida máxima em termos absolutos: {subida_maxima_absoluta}\")"
   ]
  },
  {
   "cell_type": "markdown",
   "id": "73923160-a624-4962-9f1a-6187727134db",
   "metadata": {},
   "source": [
    "## Pergunta 12\n",
    "## Em média, qual o volume diário de transações das ações da AAPL?\n",
    "\n",
    "\r\n"
   ]
  },
  {
   "cell_type": "code",
   "execution_count": 17,
   "id": "51494ce9-23c4-46bd-a110-6d19c7c7eb82",
   "metadata": {},
   "outputs": [
    {
     "name": "stdout",
     "output_type": "stream",
     "text": [
      "Média do volume diário de transações das ações da AAPL (em milhões): 54.05 milhões\n"
     ]
    }
   ],
   "source": [
    "# Filtra o DataFrame para incluir apenas a ação da Apple (AAPL)\n",
    "aapl_df = df[df['Name'] == 'AAPL']\n",
    "\n",
    "# Calcula a média do volume diário de transações em milhões\n",
    "media_volume_diario_aapl_milhoes = aapl_df.groupby('date')['volume'].mean() / 1000000\n",
    "\n",
    "# Calcula a média geral do volume diário em milhões\n",
    "media_geral_volume_diario_aapl_milhoes = media_volume_diario_aapl_milhoes.mean()\n",
    "\n",
    "print(f\"Média do volume diário de transações das ações da AAPL (em milhões): {media_geral_volume_diario_aapl_milhoes:.2f} milhões\")"
   ]
  },
  {
   "cell_type": "markdown",
   "id": "1e095dff-cdfd-47a2-89f6-932a48830bbc",
   "metadata": {},
   "source": [
    "## Pergunta 13\n",
    "## Quantas ações tem 1, 2, 3, 4 e 5 caracteres em seu nome, respectivamente?\r\n"
   ]
  },
  {
   "cell_type": "code",
   "execution_count": 26,
   "id": "90b3fa88-e287-4436-99cc-0a116b9cec6d",
   "metadata": {},
   "outputs": [
    {
     "name": "stdout",
     "output_type": "stream",
     "text": [
      "Número de ações distintas por comprimento de nome:\n",
      "1 caracteres: 10 ações distintas\n",
      "2 caracteres: 50 ações distintas\n",
      "3 caracteres: 323 ações distintas\n",
      "4 caracteres: 117 ações distintas\n",
      "5 caracteres: 5 ações distintas\n"
     ]
    }
   ],
   "source": [
    "# Cria uma nova coluna com o comprimento dos nomes das ações\n",
    "df['length_name'] = df['Name'].apply(lambda x: len(str(x)))\n",
    "\n",
    "# Conta a quantidade de ações distintas por comprimento de nome\n",
    "contagem_acoes_por_comprimento = df.groupby('length_name')['Name'].nunique()\n",
    "\n",
    "print(\"Número de ações distintas por comprimento de nome:\")\n",
    "for comprimento, contagem in contagem_acoes_por_comprimento.items():\n",
    "    print(f\"{comprimento} caracteres: {contagem} ações distintas\")"
   ]
  },
  {
   "cell_type": "markdown",
   "id": "c7e0e861-8473-46b2-bf4c-6f1f3a9558b4",
   "metadata": {},
   "source": [
    "## Pergunta 14\n",
    "## Qual a ação menos negociada da bolsa, em volume de transações?\r\n",
    "\r\n"
   ]
  },
  {
   "cell_type": "code",
   "execution_count": 22,
   "id": "339e91f0-1bc5-4dc9-b02f-88351e886070",
   "metadata": {},
   "outputs": [
    {
     "name": "stdout",
     "output_type": "stream",
     "text": [
      "Ação menos negociada em volume de transações: APTV\n",
      "Menor volume negociado: 92947779\n"
     ]
    }
   ],
   "source": [
    "# Calcula o volume total para cada ação\n",
    "volume_total_por_acao = df.groupby('Name')['volume'].sum()\n",
    "\n",
    "# Encontra a ação menos negociada\n",
    "acao_menos_negociada = volume_total_por_acao.idxmin()\n",
    "menor_volume_negociado = volume_total_por_acao.min()\n",
    "\n",
    "print(f\"Ação menos negociada em volume de transações: {acao_menos_negociada}\")\n",
    "print(f\"Menor volume negociado: {menor_volume_negociado}\")"
   ]
  },
  {
   "cell_type": "markdown",
   "id": "000da88e-65b7-419d-a23f-a937534b1170",
   "metadata": {
    "jp-MarkdownHeadingCollapsed": true
   },
   "source": [
    "## Pergunta 15\n",
    "## Qual dessas afirmações NÃO ilustra uma diferença entre as abstrações RDD e Dataframe?\r",
    "\r",
    "    \n",
    "\r\n",
    "Computações com Dataframes podem ser mais eficientes que com RDDs, pelo fato do Spark conhecer as colunas sobre as quais vai opera    r    .\r\n",
    "\r\n",
    "O Dataframe suporta diretamente manipulação de colu    n    as.\r\n",
    "\r\n",
    "O Dataframe não é tolerante a falhas, enquanto o RDD sim (O “R” é de “resilie    n    te”).\r\n",
    "\r\n",
    "O RDD tem uma API mais flexível e livre que o Dataframe, dado que ele trabalha com objetos arbitrários.\r\n",
    "\r\n"
   ]
  },
  {
   "cell_type": "markdown",
   "id": "08252cfc-a8f4-4d15-b44f-07930f07229f",
   "metadata": {
    "jp-MarkdownHeadingCollapsed": true
   },
   "source": [
    "## Resposta: \n",
    "### O Dataframe não é tolerante a falhas, enquanto o RDD sim (O “R” é de “resiliente”).rários.\r\n",
    "\r\n"
   ]
  },
  {
   "cell_type": "markdown",
   "id": "44440ffc",
   "metadata": {},
   "source": [
    "FIM"
   ]
  }
 ],
 "metadata": {
  "kernelspec": {
   "display_name": "venv_coleta_dados",
   "language": "python",
   "name": "venv_coleta_dados"
  },
  "language_info": {
   "codemirror_mode": {
    "name": "ipython",
    "version": 3
   },
   "file_extension": ".py",
   "mimetype": "text/x-python",
   "name": "python",
   "nbconvert_exporter": "python",
   "pygments_lexer": "ipython3",
   "version": "3.11.5"
  }
 },
 "nbformat": 4,
 "nbformat_minor": 5
}
