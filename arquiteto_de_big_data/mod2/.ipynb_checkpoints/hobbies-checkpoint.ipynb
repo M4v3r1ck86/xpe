{
 "cells": [
  {
   "cell_type": "code",
   "execution_count": null,
   "id": "1611b6f9-e683-4e56-8e18-d8bfd295646e",
   "metadata": {},
   "outputs": [],
   "source": [
    "import pandas as pd\n",
    "import os"
   ]
  },
  {
   "cell_type": "code",
   "execution_count": 4,
   "id": "ad1ec06f-1d10-4c65-ac82-8aa12e564456",
   "metadata": {},
   "outputs": [],
   "source": [
    "dir = \"C:\\\\Users\\\\jonat\\\\Documents\\\\xpe\\\\arquiteto_de_big_data\\\\mod2\\\\datasets\""
   ]
  },
  {
   "cell_type": "code",
   "execution_count": 9,
   "id": "eb5a2556-0efc-4478-afac-d6352956d429",
   "metadata": {},
   "outputs": [],
   "source": [
    "lista_path = os.listdir(dir)"
   ]
  },
  {
   "cell_type": "code",
   "execution_count": 10,
   "id": "6a5e5a8a-6b12-4ac2-9dc9-021ffae7fabe",
   "metadata": {},
   "outputs": [
    {
     "data": {
      "text/plain": [
       "['2020-01-01.csv',\n",
       " '2020-01-02.csv',\n",
       " '2020-01-03.csv',\n",
       " '2020-01-04.csv',\n",
       " '2020-01-05.csv']"
      ]
     },
     "execution_count": 10,
     "metadata": {},
     "output_type": "execute_result"
    }
   ],
   "source": [
    "lista_path[:5]"
   ]
  },
  {
   "cell_type": "code",
   "execution_count": 13,
   "id": "6097b2f6-111c-43e5-b475-0b78ae957489",
   "metadata": {},
   "outputs": [],
   "source": [
    "lista_df = []\n",
    "for arquivo in lista_path:\n",
    "    local_arquivo = os.path.join(dir, arquivo)\n",
    "    df = pd.read_csv(local_arquivo, sep = '|', encoding='latin-1')\n",
    "    lista_df.append(df)\n",
    "df_vendas = pd.concat(lista_df)\n",
    "    "
   ]
  },
  {
   "cell_type": "code",
   "execution_count": 15,
   "id": "08ba47fb-4d96-472f-a043-086e94c12f55",
   "metadata": {},
   "outputs": [
    {
     "data": {
      "text/html": [
       "<div>\n",
       "<style scoped>\n",
       "    .dataframe tbody tr th:only-of-type {\n",
       "        vertical-align: middle;\n",
       "    }\n",
       "\n",
       "    .dataframe tbody tr th {\n",
       "        vertical-align: top;\n",
       "    }\n",
       "\n",
       "    .dataframe thead th {\n",
       "        text-align: right;\n",
       "    }\n",
       "</style>\n",
       "<table border=\"1\" class=\"dataframe\">\n",
       "  <thead>\n",
       "    <tr style=\"text-align: right;\">\n",
       "      <th></th>\n",
       "      <th>cod_pessoa</th>\n",
       "      <th>data_coleta</th>\n",
       "      <th>genero</th>\n",
       "      <th>data_nascimento</th>\n",
       "      <th>animal_estimacao</th>\n",
       "      <th>clima</th>\n",
       "      <th>bebida_favorita</th>\n",
       "      <th>hobbies</th>\n",
       "    </tr>\n",
       "  </thead>\n",
       "  <tbody>\n",
       "    <tr>\n",
       "      <th>0</th>\n",
       "      <td>10141743</td>\n",
       "      <td>2020-01-01</td>\n",
       "      <td>Masculino</td>\n",
       "      <td>1981-04-25</td>\n",
       "      <td>peixe</td>\n",
       "      <td>frio</td>\n",
       "      <td>Cerveja</td>\n",
       "      <td>Praticar esporte</td>\n",
       "    </tr>\n",
       "    <tr>\n",
       "      <th>1</th>\n",
       "      <td>10141860</td>\n",
       "      <td>2020-01-01</td>\n",
       "      <td>Feminino</td>\n",
       "      <td>1966-01-19</td>\n",
       "      <td>peixe</td>\n",
       "      <td>quente</td>\n",
       "      <td>Café</td>\n",
       "      <td>Assistir TV</td>\n",
       "    </tr>\n",
       "    <tr>\n",
       "      <th>2</th>\n",
       "      <td>10142548</td>\n",
       "      <td>2020-01-01</td>\n",
       "      <td>Masculino</td>\n",
       "      <td>1973-08-02</td>\n",
       "      <td>tartaruga</td>\n",
       "      <td>frio</td>\n",
       "      <td>Café</td>\n",
       "      <td>Ler livros</td>\n",
       "    </tr>\n",
       "    <tr>\n",
       "      <th>3</th>\n",
       "      <td>10142591</td>\n",
       "      <td>2020-01-01</td>\n",
       "      <td>Masculino</td>\n",
       "      <td>1997-03-05</td>\n",
       "      <td>gato</td>\n",
       "      <td>moderado</td>\n",
       "      <td>Cerveja</td>\n",
       "      <td>Aprender algo novo</td>\n",
       "    </tr>\n",
       "    <tr>\n",
       "      <th>4</th>\n",
       "      <td>10142654</td>\n",
       "      <td>2020-01-01</td>\n",
       "      <td>Feminino</td>\n",
       "      <td>1969-08-05</td>\n",
       "      <td>tartaruga</td>\n",
       "      <td>moderado</td>\n",
       "      <td>Café</td>\n",
       "      <td>Assistir TV</td>\n",
       "    </tr>\n",
       "    <tr>\n",
       "      <th>0</th>\n",
       "      <td>10141523</td>\n",
       "      <td>2020-01-02</td>\n",
       "      <td>Feminino</td>\n",
       "      <td>1998-09-24</td>\n",
       "      <td>gato</td>\n",
       "      <td>quente</td>\n",
       "      <td>Cerveja</td>\n",
       "      <td>Aprender algo novo</td>\n",
       "    </tr>\n",
       "    <tr>\n",
       "      <th>1</th>\n",
       "      <td>10141996</td>\n",
       "      <td>2020-01-02</td>\n",
       "      <td>Feminino</td>\n",
       "      <td>1973-03-13</td>\n",
       "      <td>tartaruga</td>\n",
       "      <td>quente</td>\n",
       "      <td>refrigerante</td>\n",
       "      <td>Escrever</td>\n",
       "    </tr>\n",
       "    <tr>\n",
       "      <th>2</th>\n",
       "      <td>10142089</td>\n",
       "      <td>2020-01-02</td>\n",
       "      <td>Feminino</td>\n",
       "      <td>1970-03-23</td>\n",
       "      <td>gato</td>\n",
       "      <td>moderado</td>\n",
       "      <td>Água</td>\n",
       "      <td>Pintar quadros</td>\n",
       "    </tr>\n",
       "    <tr>\n",
       "      <th>3</th>\n",
       "      <td>10142145</td>\n",
       "      <td>2020-01-02</td>\n",
       "      <td>Masculino</td>\n",
       "      <td>1998-08-01</td>\n",
       "      <td>peixe</td>\n",
       "      <td>frio</td>\n",
       "      <td>refrigerante</td>\n",
       "      <td>Escrever</td>\n",
       "    </tr>\n",
       "    <tr>\n",
       "      <th>4</th>\n",
       "      <td>10142520</td>\n",
       "      <td>2020-01-02</td>\n",
       "      <td>Masculino</td>\n",
       "      <td>1994-05-09</td>\n",
       "      <td>peixe</td>\n",
       "      <td>moderado</td>\n",
       "      <td>Café</td>\n",
       "      <td>Praticar esporte</td>\n",
       "    </tr>\n",
       "  </tbody>\n",
       "</table>\n",
       "</div>"
      ],
      "text/plain": [
       "   cod_pessoa data_coleta     genero data_nascimento animal_estimacao  \\\n",
       "0    10141743  2020-01-01  Masculino      1981-04-25            peixe   \n",
       "1    10141860  2020-01-01   Feminino      1966-01-19            peixe   \n",
       "2    10142548  2020-01-01  Masculino      1973-08-02        tartaruga   \n",
       "3    10142591  2020-01-01  Masculino      1997-03-05             gato   \n",
       "4    10142654  2020-01-01   Feminino      1969-08-05        tartaruga   \n",
       "0    10141523  2020-01-02   Feminino      1998-09-24             gato   \n",
       "1    10141996  2020-01-02   Feminino      1973-03-13        tartaruga   \n",
       "2    10142089  2020-01-02   Feminino      1970-03-23             gato   \n",
       "3    10142145  2020-01-02  Masculino      1998-08-01            peixe   \n",
       "4    10142520  2020-01-02  Masculino      1994-05-09            peixe   \n",
       "\n",
       "      clima bebida_favorita             hobbies  \n",
       "0      frio         Cerveja    Praticar esporte  \n",
       "1    quente            Café         Assistir TV  \n",
       "2      frio            Café          Ler livros  \n",
       "3  moderado         Cerveja  Aprender algo novo  \n",
       "4  moderado            Café         Assistir TV  \n",
       "0    quente         Cerveja  Aprender algo novo  \n",
       "1    quente    refrigerante            Escrever  \n",
       "2  moderado            Água      Pintar quadros  \n",
       "3      frio    refrigerante            Escrever  \n",
       "4  moderado            Café    Praticar esporte  "
      ]
     },
     "execution_count": 15,
     "metadata": {},
     "output_type": "execute_result"
    }
   ],
   "source": [
    "df_vendas[:10]"
   ]
  },
  {
   "cell_type": "code",
   "execution_count": 18,
   "id": "992a279c-7414-474c-95a3-3c133056b357",
   "metadata": {},
   "outputs": [],
   "source": [
    "df_vendas.to_csv(dir,  'vendas_por_data.csv', sep='|', encoding='latin-1', index=False)"
   ]
  }
 ],
 "metadata": {
  "kernelspec": {
   "display_name": "venv_coleta_dados",
   "language": "python",
   "name": "venv_coleta_dados"
  },
  "language_info": {
   "codemirror_mode": {
    "name": "ipython",
    "version": 3
   },
   "file_extension": ".py",
   "mimetype": "text/x-python",
   "name": "python",
   "nbconvert_exporter": "python",
   "pygments_lexer": "ipython3",
   "version": "3.11.5"
  }
 },
 "nbformat": 4,
 "nbformat_minor": 5
}
