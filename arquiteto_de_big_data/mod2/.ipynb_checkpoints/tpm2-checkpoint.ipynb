{
 "cells": [
  {
   "cell_type": "code",
   "execution_count": 79,
   "id": "e6029700-98e0-4046-942a-204de3560eb7",
   "metadata": {},
   "outputs": [],
   "source": [
    "import pandas as pd\n",
    "import os\n",
    "import warnings\n",
    "warnings.filterwarnings('ignore')\n",
    "# Carregue os dados\n",
    "dir = \"C:\\\\Users\\\\jonat\\\\Documents\\\\xpe\\\\arquiteto_de_big_data\\\\mod2\\\\processamento_licencas_medicas\"\n",
    "lista_path = os.listdir(dir)\n",
    "lista_df = []\n",
    "for arquivo in lista_path:\n",
    "    local_arquivo = os.path.join(dir, arquivo)\n",
    "    df = pd.read_csv(local_arquivo, sep='|', encoding='latin-1')\n",
    "    lista_df.append(df)\n",
    "\n",
    "df = pd.concat(lista_df)\n",
    "\n",
    "\n"
   ]
  },
  {
   "cell_type": "code",
   "execution_count": 80,
   "id": "6d5b5c67-b92d-4a41-826a-dcc6297ec430",
   "metadata": {},
   "outputs": [
    {
     "data": {
      "text/html": [
       "<div>\n",
       "<style scoped>\n",
       "    .dataframe tbody tr th:only-of-type {\n",
       "        vertical-align: middle;\n",
       "    }\n",
       "\n",
       "    .dataframe tbody tr th {\n",
       "        vertical-align: top;\n",
       "    }\n",
       "\n",
       "    .dataframe thead th {\n",
       "        text-align: right;\n",
       "    }\n",
       "</style>\n",
       "<table border=\"1\" class=\"dataframe\">\n",
       "  <thead>\n",
       "    <tr style=\"text-align: right;\">\n",
       "      <th></th>\n",
       "      <th>data_processamento</th>\n",
       "      <th>nome_medico</th>\n",
       "      <th>especialidade</th>\n",
       "      <th>motivo_licenca</th>\n",
       "      <th>id_colaborador</th>\n",
       "      <th>nome_colaborador</th>\n",
       "      <th>data_nascimento</th>\n",
       "      <th>estado_colaborador</th>\n",
       "      <th>sexo_colaborador</th>\n",
       "      <th>inicio_licenca</th>\n",
       "      <th>fim_licenca</th>\n",
       "      <th>duracao_licenca</th>\n",
       "      <th>escolaridade</th>\n",
       "      <th>salario</th>\n",
       "      <th>qtd_filhos</th>\n",
       "      <th>hobbie</th>\n",
       "      <th>possui_pet</th>\n",
       "      <th>estado_civil</th>\n",
       "    </tr>\n",
       "  </thead>\n",
       "  <tbody>\n",
       "    <tr>\n",
       "      <th>0</th>\n",
       "      <td>2022-01-04</td>\n",
       "      <td>Dr. Gustavo</td>\n",
       "      <td>Clínico geral</td>\n",
       "      <td>Acidente de trajeto</td>\n",
       "      <td>25</td>\n",
       "      <td>Matheus Peixoto</td>\n",
       "      <td>1995-11-28</td>\n",
       "      <td>Pernambuco</td>\n",
       "      <td>Masculino</td>\n",
       "      <td>2022-01-03</td>\n",
       "      <td>2022-01-04</td>\n",
       "      <td>1</td>\n",
       "      <td>Superior</td>\n",
       "      <td>7983.38</td>\n",
       "      <td>4.0</td>\n",
       "      <td>Esportes</td>\n",
       "      <td>Não</td>\n",
       "      <td>Viúvo(a)</td>\n",
       "    </tr>\n",
       "    <tr>\n",
       "      <th>0</th>\n",
       "      <td>2022-01-08</td>\n",
       "      <td>Dr. Thiago</td>\n",
       "      <td>Ortopedista</td>\n",
       "      <td>Comum</td>\n",
       "      <td>17</td>\n",
       "      <td>Luana Mendes</td>\n",
       "      <td>1960-11-22</td>\n",
       "      <td>Distrito Federal</td>\n",
       "      <td>Feminino</td>\n",
       "      <td>2022-01-06</td>\n",
       "      <td>2022-01-24</td>\n",
       "      <td>18</td>\n",
       "      <td>Médio</td>\n",
       "      <td>2434.41</td>\n",
       "      <td>3.0</td>\n",
       "      <td>Esportes</td>\n",
       "      <td>Não</td>\n",
       "      <td>Viúvo(a)</td>\n",
       "    </tr>\n",
       "    <tr>\n",
       "      <th>0</th>\n",
       "      <td>2022-01-12</td>\n",
       "      <td>Dr. Pedro</td>\n",
       "      <td>Clínico geral</td>\n",
       "      <td>Acidente de trajeto</td>\n",
       "      <td>998</td>\n",
       "      <td>Lívia Moraes</td>\n",
       "      <td>2001-09-24</td>\n",
       "      <td>Amapá</td>\n",
       "      <td>Feminino</td>\n",
       "      <td>2022-01-02</td>\n",
       "      <td>2022-01-08</td>\n",
       "      <td>6</td>\n",
       "      <td>Médio</td>\n",
       "      <td>6629.56</td>\n",
       "      <td>2.0</td>\n",
       "      <td>Artes</td>\n",
       "      <td>Não</td>\n",
       "      <td>Casado(a)</td>\n",
       "    </tr>\n",
       "    <tr>\n",
       "      <th>1</th>\n",
       "      <td>2022-01-12</td>\n",
       "      <td>Dr. Marcos</td>\n",
       "      <td>Traumatologista</td>\n",
       "      <td>Acidente de trajeto</td>\n",
       "      <td>287</td>\n",
       "      <td>Thomas Gomes</td>\n",
       "      <td>1974-07-31</td>\n",
       "      <td>Rio de Janeiro</td>\n",
       "      <td>Masculino</td>\n",
       "      <td>2022-01-09</td>\n",
       "      <td>2022-01-24</td>\n",
       "      <td>15</td>\n",
       "      <td>Médio</td>\n",
       "      <td>8266.57</td>\n",
       "      <td>2.0</td>\n",
       "      <td>Música</td>\n",
       "      <td>Não</td>\n",
       "      <td>Casado(a)</td>\n",
       "    </tr>\n",
       "    <tr>\n",
       "      <th>0</th>\n",
       "      <td>2022-01-14</td>\n",
       "      <td>Dr. André</td>\n",
       "      <td>Traumatologista</td>\n",
       "      <td>Enfermidade de filhos pequenos</td>\n",
       "      <td>97</td>\n",
       "      <td>João Pedro Martins</td>\n",
       "      <td>1972-10-19</td>\n",
       "      <td>Maranhão</td>\n",
       "      <td>Masculino</td>\n",
       "      <td>2022-01-10</td>\n",
       "      <td>2022-01-28</td>\n",
       "      <td>18</td>\n",
       "      <td>Fundamental</td>\n",
       "      <td>9626.64</td>\n",
       "      <td>0.0</td>\n",
       "      <td>Leitura</td>\n",
       "      <td>Não</td>\n",
       "      <td>Casado(a)</td>\n",
       "    </tr>\n",
       "    <tr>\n",
       "      <th>...</th>\n",
       "      <td>...</td>\n",
       "      <td>...</td>\n",
       "      <td>...</td>\n",
       "      <td>...</td>\n",
       "      <td>...</td>\n",
       "      <td>...</td>\n",
       "      <td>...</td>\n",
       "      <td>...</td>\n",
       "      <td>...</td>\n",
       "      <td>...</td>\n",
       "      <td>...</td>\n",
       "      <td>...</td>\n",
       "      <td>...</td>\n",
       "      <td>...</td>\n",
       "      <td>...</td>\n",
       "      <td>...</td>\n",
       "      <td>...</td>\n",
       "      <td>...</td>\n",
       "    </tr>\n",
       "    <tr>\n",
       "      <th>1</th>\n",
       "      <td>2024-01-13</td>\n",
       "      <td>Dr. Ramos</td>\n",
       "      <td>Ortopedista</td>\n",
       "      <td>Comum</td>\n",
       "      <td>302</td>\n",
       "      <td>Brenda Cavalcanti</td>\n",
       "      <td>1961-02-13</td>\n",
       "      <td>Goiás</td>\n",
       "      <td>Feminino</td>\n",
       "      <td>2023-12-15</td>\n",
       "      <td>2023-12-21</td>\n",
       "      <td>6</td>\n",
       "      <td>Fundamental</td>\n",
       "      <td>5509.67</td>\n",
       "      <td>3.0</td>\n",
       "      <td>Música</td>\n",
       "      <td>Não</td>\n",
       "      <td>Casado(a)</td>\n",
       "    </tr>\n",
       "    <tr>\n",
       "      <th>2</th>\n",
       "      <td>2024-01-13</td>\n",
       "      <td>Dr. Ricardo</td>\n",
       "      <td>Traumatologista</td>\n",
       "      <td>Enfermidade de filhos pequenos</td>\n",
       "      <td>61</td>\n",
       "      <td>Sophia Nunes</td>\n",
       "      <td>2003-05-24</td>\n",
       "      <td>Santa Catarina</td>\n",
       "      <td>Feminino</td>\n",
       "      <td>2023-12-17</td>\n",
       "      <td>2023-12-26</td>\n",
       "      <td>9</td>\n",
       "      <td>Fundamental</td>\n",
       "      <td>3834.88</td>\n",
       "      <td>1.0</td>\n",
       "      <td>Leitura</td>\n",
       "      <td>Não</td>\n",
       "      <td>Solteiro(a)</td>\n",
       "    </tr>\n",
       "    <tr>\n",
       "      <th>0</th>\n",
       "      <td>2024-01-18</td>\n",
       "      <td>Dr. Ramos</td>\n",
       "      <td>Ortopedista</td>\n",
       "      <td>Enfermidade de filhos pequenos</td>\n",
       "      <td>381</td>\n",
       "      <td>Renan Porto</td>\n",
       "      <td>1955-09-15</td>\n",
       "      <td>Pernambuco</td>\n",
       "      <td>Masculino</td>\n",
       "      <td>2023-12-19</td>\n",
       "      <td>2024-01-08</td>\n",
       "      <td>20</td>\n",
       "      <td>Fundamental</td>\n",
       "      <td>3258.61</td>\n",
       "      <td>0.0</td>\n",
       "      <td>Viagens</td>\n",
       "      <td>Sim</td>\n",
       "      <td>Viúvo(a)</td>\n",
       "    </tr>\n",
       "    <tr>\n",
       "      <th>0</th>\n",
       "      <td>2024-01-19</td>\n",
       "      <td>Dr. Gustavo</td>\n",
       "      <td>Clínico geral</td>\n",
       "      <td>Acidente de trajeto</td>\n",
       "      <td>599</td>\n",
       "      <td>Ana Beatriz das Neves</td>\n",
       "      <td>1959-11-29</td>\n",
       "      <td>Rio Grande do Norte</td>\n",
       "      <td>Feminino</td>\n",
       "      <td>2023-12-26</td>\n",
       "      <td>2024-01-25</td>\n",
       "      <td>30</td>\n",
       "      <td>Médio</td>\n",
       "      <td>3162.39</td>\n",
       "      <td>1.0</td>\n",
       "      <td>Esportes</td>\n",
       "      <td>Sim</td>\n",
       "      <td>Divorciado(a)</td>\n",
       "    </tr>\n",
       "    <tr>\n",
       "      <th>0</th>\n",
       "      <td>2024-01-23</td>\n",
       "      <td>Dr. Thiago</td>\n",
       "      <td>Ortopedista</td>\n",
       "      <td>Acidente de trajeto</td>\n",
       "      <td>861</td>\n",
       "      <td>Ana Júlia Moura</td>\n",
       "      <td>1977-01-14</td>\n",
       "      <td>Goiás</td>\n",
       "      <td>Feminino</td>\n",
       "      <td>2023-12-27</td>\n",
       "      <td>2023-12-28</td>\n",
       "      <td>1</td>\n",
       "      <td>Superior</td>\n",
       "      <td>3392.72</td>\n",
       "      <td>4.0</td>\n",
       "      <td>Artes</td>\n",
       "      <td>Não</td>\n",
       "      <td>Casado(a)</td>\n",
       "    </tr>\n",
       "  </tbody>\n",
       "</table>\n",
       "<p>1048 rows × 18 columns</p>\n",
       "</div>"
      ],
      "text/plain": [
       "   data_processamento  nome_medico    especialidade  \\\n",
       "0          2022-01-04  Dr. Gustavo    Clínico geral   \n",
       "0          2022-01-08   Dr. Thiago      Ortopedista   \n",
       "0          2022-01-12    Dr. Pedro    Clínico geral   \n",
       "1          2022-01-12   Dr. Marcos  Traumatologista   \n",
       "0          2022-01-14    Dr. André  Traumatologista   \n",
       "..                ...          ...              ...   \n",
       "1          2024-01-13    Dr. Ramos      Ortopedista   \n",
       "2          2024-01-13  Dr. Ricardo  Traumatologista   \n",
       "0          2024-01-18    Dr. Ramos      Ortopedista   \n",
       "0          2024-01-19  Dr. Gustavo    Clínico geral   \n",
       "0          2024-01-23   Dr. Thiago      Ortopedista   \n",
       "\n",
       "                    motivo_licenca  id_colaborador       nome_colaborador  \\\n",
       "0              Acidente de trajeto              25        Matheus Peixoto   \n",
       "0                            Comum              17           Luana Mendes   \n",
       "0              Acidente de trajeto             998           Lívia Moraes   \n",
       "1              Acidente de trajeto             287           Thomas Gomes   \n",
       "0   Enfermidade de filhos pequenos              97     João Pedro Martins   \n",
       "..                             ...             ...                    ...   \n",
       "1                            Comum             302      Brenda Cavalcanti   \n",
       "2   Enfermidade de filhos pequenos              61           Sophia Nunes   \n",
       "0   Enfermidade de filhos pequenos             381            Renan Porto   \n",
       "0              Acidente de trajeto             599  Ana Beatriz das Neves   \n",
       "0              Acidente de trajeto             861        Ana Júlia Moura   \n",
       "\n",
       "   data_nascimento   estado_colaborador sexo_colaborador inicio_licenca  \\\n",
       "0       1995-11-28           Pernambuco        Masculino     2022-01-03   \n",
       "0       1960-11-22     Distrito Federal         Feminino     2022-01-06   \n",
       "0       2001-09-24                Amapá         Feminino     2022-01-02   \n",
       "1       1974-07-31       Rio de Janeiro        Masculino     2022-01-09   \n",
       "0       1972-10-19             Maranhão        Masculino     2022-01-10   \n",
       "..             ...                  ...              ...            ...   \n",
       "1       1961-02-13                Goiás         Feminino     2023-12-15   \n",
       "2       2003-05-24       Santa Catarina         Feminino     2023-12-17   \n",
       "0       1955-09-15           Pernambuco        Masculino     2023-12-19   \n",
       "0       1959-11-29  Rio Grande do Norte         Feminino     2023-12-26   \n",
       "0       1977-01-14                Goiás         Feminino     2023-12-27   \n",
       "\n",
       "   fim_licenca  duracao_licenca escolaridade  salario  qtd_filhos    hobbie  \\\n",
       "0   2022-01-04                1     Superior  7983.38         4.0  Esportes   \n",
       "0   2022-01-24               18        Médio  2434.41         3.0  Esportes   \n",
       "0   2022-01-08                6        Médio  6629.56         2.0     Artes   \n",
       "1   2022-01-24               15        Médio  8266.57         2.0    Música   \n",
       "0   2022-01-28               18  Fundamental  9626.64         0.0   Leitura   \n",
       "..         ...              ...          ...      ...         ...       ...   \n",
       "1   2023-12-21                6  Fundamental  5509.67         3.0    Música   \n",
       "2   2023-12-26                9  Fundamental  3834.88         1.0   Leitura   \n",
       "0   2024-01-08               20  Fundamental  3258.61         0.0   Viagens   \n",
       "0   2024-01-25               30        Médio  3162.39         1.0  Esportes   \n",
       "0   2023-12-28                1     Superior  3392.72         4.0     Artes   \n",
       "\n",
       "   possui_pet   estado_civil  \n",
       "0         Não       Viúvo(a)  \n",
       "0         Não       Viúvo(a)  \n",
       "0         Não      Casado(a)  \n",
       "1         Não      Casado(a)  \n",
       "0         Não      Casado(a)  \n",
       "..        ...            ...  \n",
       "1         Não      Casado(a)  \n",
       "2         Não    Solteiro(a)  \n",
       "0         Sim       Viúvo(a)  \n",
       "0         Sim  Divorciado(a)  \n",
       "0         Não      Casado(a)  \n",
       "\n",
       "[1048 rows x 18 columns]"
      ]
     },
     "execution_count": 80,
     "metadata": {},
     "output_type": "execute_result"
    }
   ],
   "source": [
    "df"
   ]
  },
  {
   "cell_type": "markdown",
   "id": "dbc01abb-b925-4eb1-a92a-b74a45d90d83",
   "metadata": {},
   "source": [
    "## Pergunta 1 \n",
    "## Qual é a idade média dos colaboradores do sexo masculino que estão casados?\n"
   ]
  },
  {
   "cell_type": "code",
   "execution_count": 64,
   "id": "1611b6f9-e683-4e56-8e18-d8bfd295646e",
   "metadata": {},
   "outputs": [
    {
     "data": {
      "text/plain": [
       "42.96"
      ]
     },
     "execution_count": 64,
     "metadata": {},
     "output_type": "execute_result"
    }
   ],
   "source": [
    "filtered_df = df[(df['sexo_colaborador'] == 'Masculino') & (df['estado_civil'] == 'Casado(a)')]\n",
    "\n",
    "filtered_df['idade'] = (pd.to_datetime('today') - pd.to_datetime(filtered_df['data_nascimento'])).dt.days // 365\n",
    "\n",
    "idade_media = filtered_df['idade'].mean()\n",
    "idade_media = round(idade_media, 2)\n",
    "idade_media"
   ]
  },
  {
   "cell_type": "markdown",
   "id": "76dbb1d4-9beb-4cba-abb7-c9784fdce735",
   "metadata": {},
   "source": [
    "## Pergunta 2\n",
    "## Qual é o motivo de licença que foi mais frequentemente solicitado por mulheres com mais de 35 anos?"
   ]
  },
  {
   "cell_type": "code",
   "execution_count": 65,
   "id": "992a279c-7414-474c-95a3-3c133056b357",
   "metadata": {},
   "outputs": [
    {
     "data": {
      "text/plain": [
       "'Comum'"
      ]
     },
     "execution_count": 65,
     "metadata": {},
     "output_type": "execute_result"
    }
   ],
   "source": [
    "\n",
    "df['data_nascimento'] = pd.to_datetime(df['data_nascimento'])\n",
    "\n",
    "filtered_df = df[(df['sexo_colaborador'] == 'Feminino') & (df['data_nascimento'].dt.year < (pd.to_datetime('today').year - 35))]\n",
    "\n",
    "frequent_motivo = filtered_df['motivo_licenca'].value_counts()\n",
    "\n",
    "motivo_mais_frequente = frequent_motivo.idxmax()\n",
    "motivo_mais_frequente\n"
   ]
  },
  {
   "cell_type": "markdown",
   "id": "b01de437-cfc0-4555-90c4-a6c91870c6a1",
   "metadata": {},
   "source": [
    "## Pergunta 3\n",
    "## Qual médico atendeu o maior número de colaboradores do estado de Minas Gerais?\n"
   ]
  },
  {
   "cell_type": "code",
   "execution_count": 66,
   "id": "66fb43ac-0789-4e0e-98aa-f22e21089f1f",
   "metadata": {},
   "outputs": [
    {
     "data": {
      "text/plain": [
       "'Dr. Pedro'"
      ]
     },
     "execution_count": 66,
     "metadata": {},
     "output_type": "execute_result"
    }
   ],
   "source": [
    "filtered_df = df[df['estado_colaborador'] == 'Minas Gerais']\n",
    "\n",
    "contagem_medicos = filtered_df['nome_medico'].value_counts()\n",
    "\n",
    "medico_mais_atendimentos = contagem_medicos.idxmax()\n",
    "medico_mais_atendimentos\n"
   ]
  },
  {
   "cell_type": "markdown",
   "id": "8a296115-00b4-4888-aaa7-8f10b31d68be",
   "metadata": {},
   "source": [
    "## Pergunta 4\n",
    "## Qual estado tem o maior número de pessoas com ensino superior que têm a leitura como hobbie?"
   ]
  },
  {
   "cell_type": "code",
   "execution_count": 71,
   "id": "86511d14-139c-4928-b78e-befdd7935969",
   "metadata": {},
   "outputs": [
    {
     "data": {
      "text/plain": [
       "estado_colaborador\n",
       "Acre                  5\n",
       "Roraima               5\n",
       "Mato Grosso           5\n",
       "Espírito Santo        4\n",
       "Maranhão              4\n",
       "Rondônia              4\n",
       "Pernambuco            4\n",
       "Ceará                 4\n",
       "Sergipe               4\n",
       "Amazonas              3\n",
       "São Paulo             3\n",
       "Distrito Federal      3\n",
       "Paraíba               3\n",
       "Minas Gerais          3\n",
       "Santa Catarina        3\n",
       "Mato Grosso do Sul    3\n",
       "Paraná                2\n",
       "Goiás                 2\n",
       "Tocantins             2\n",
       "Bahia                 1\n",
       "Pará                  1\n",
       "Rio Grande do Sul     1\n",
       "Amapá                 1\n",
       "Rio de Janeiro        1\n",
       "Alagoas               1\n",
       "Name: count, dtype: int64"
      ]
     },
     "execution_count": 71,
     "metadata": {},
     "output_type": "execute_result"
    }
   ],
   "source": [
    "filtered_df = df[(df['escolaridade'] == 'Superior') & (df['hobbie'] == 'Leitura')]\n",
    "\n",
    "# estado_maior_numero_pessoas = filtered_df['estado_colaborador'].value_counts().idxmax()\n",
    "# estado_maior_numero_pessoas\n",
    "\n",
    "contagem_por_estado = filtered_df['estado_colaborador'].value_counts()\n",
    "contagem_por_estado\n"
   ]
  },
  {
   "cell_type": "markdown",
   "id": "2a163f4d-030e-47f6-b02e-cf09f997efe6",
   "metadata": {},
   "source": [
    "## Pergunta 5\n",
    "## Qual é o número de pessoas com ensino superior que são naturais ou pertencem ao estado de Pernambuco?\n"
   ]
  },
  {
   "cell_type": "code",
   "execution_count": 82,
   "id": "025f6c30-04b0-4f75-bcd7-abe5bf83fa5a",
   "metadata": {},
   "outputs": [
    {
     "data": {
      "text/plain": [
       "10"
      ]
     },
     "execution_count": 82,
     "metadata": {},
     "output_type": "execute_result"
    }
   ],
   "source": [
    "filtro_pernambuco = df['estado_colaborador'] == 'Pernambuco'\n",
    "filtro_superior = df['escolaridade'] == 'Superior'\n",
    "total_pernambuco_superior = len(df[filtro_pernambuco & filtro_superior])\n",
    "total_pernambuco_superior\n",
    "\n",
    "\n"
   ]
  },
  {
   "cell_type": "markdown",
   "id": "096eef17-dcbf-48b4-9189-6ea78146b058",
   "metadata": {},
   "source": [
    "## Pergunta 6\n",
    "## Calcule a média de filhos entre todas as pessoas atendidas pelo Dr. Lessa e assinale a alternativa CORRETA."
   ]
  },
  {
   "cell_type": "code",
   "execution_count": 94,
   "id": "bce2c2a1-3cb4-4ced-8826-0f1e9796b9df",
   "metadata": {},
   "outputs": [
    {
     "name": "stdout",
     "output_type": "stream",
     "text": [
      "A média de filhos entre todas as pessoas atendidas é: 2.54\n",
      "A média de filhos para colaboradores do sexo feminino é: 2.38\n",
      "A média de filhos para colaboradores do sexo masculino é: 2.70\n"
     ]
    }
   ],
   "source": [
    "filtered_df = df[df['nome_medico'] == 'Dr. Lessa']\n",
    "\n",
    "media_filhos = filtered_df['qtd_filhos'].mean()\n",
    "\n",
    "media_feminino = filtered_df[filtered_df['sexo_colaborador'] == 'Feminino']['qtd_filhos'].mean()\n",
    "\n",
    "media_masculino = filtered_df[filtered_df['sexo_colaborador'] == 'Masculino']['qtd_filhos'].mean()\n",
    "\n",
    "print(f\"A média de filhos entre todas as pessoas atendidas é: {media_filhos:.2f}\")\n",
    "print(f\"A média de filhos para colaboradores do sexo feminino é: {media_feminino:.2f}\")\n",
    "print(f\"A média de filhos para colaboradores do sexo masculino é: {media_masculino:.2f}\")\n"
   ]
  },
  {
   "cell_type": "markdown",
   "id": "b703e7b0-4f11-4701-9589-e66215b92a5d",
   "metadata": {},
   "source": [
    "## Pergunta 7\n",
    "## Qual colaborador possui o maior salário na base de dados?"
   ]
  },
  {
   "cell_type": "code",
   "execution_count": 115,
   "id": "fefdbb86-3d66-4186-a710-6cdb82ac3def",
   "metadata": {},
   "outputs": [
    {
     "ename": "IndexError",
     "evalue": "invalid index to scalar variable.",
     "output_type": "error",
     "traceback": [
      "\u001b[1;31m---------------------------------------------------------------------------\u001b[0m",
      "\u001b[1;31mIndexError\u001b[0m                                Traceback (most recent call last)",
      "Cell \u001b[1;32mIn[115], line 4\u001b[0m\n\u001b[0;32m      1\u001b[0m \u001b[38;5;66;03m# colaborador_maior_salario = df[df['salario'] == df['salario'].max()]\u001b[39;00m\n\u001b[0;32m      2\u001b[0m colaborador_maior_salario \u001b[38;5;241m=\u001b[39m df[\u001b[38;5;124m'\u001b[39m\u001b[38;5;124msalario\u001b[39m\u001b[38;5;124m'\u001b[39m]\u001b[38;5;241m.\u001b[39mmax()\n\u001b[1;32m----> 4\u001b[0m colaborador_maior_salario \u001b[38;5;241m=\u001b[39m \u001b[43mcolaborador_maior_salario\u001b[49m\u001b[43m[\u001b[49m\u001b[43m[\u001b[49m\u001b[38;5;124;43m'\u001b[39;49m\u001b[38;5;124;43mnome_colaborador\u001b[39;49m\u001b[38;5;124;43m'\u001b[39;49m\u001b[43m,\u001b[49m\u001b[43m \u001b[49m\u001b[38;5;124;43m'\u001b[39;49m\u001b[38;5;124;43msalario\u001b[39;49m\u001b[38;5;124;43m'\u001b[39;49m\u001b[43m]\u001b[49m\u001b[43m]\u001b[49m\n\u001b[0;32m      6\u001b[0m \u001b[38;5;28mprint\u001b[39m(colaborador_maior_salario)\n",
      "\u001b[1;31mIndexError\u001b[0m: invalid index to scalar variable."
     ]
    }
   ],
   "source": [
    "colaborador_maior_salario = df[df['salario'] == df['salario'].max()]\n",
    "\n",
    "colaborador_maior_salario = colaborador_maior_salario[['nome_colaborador', 'salario']]\n",
    "\n",
    "print(colaborador_maior_salario)\n"
   ]
  },
  {
   "cell_type": "code",
   "execution_count": null,
   "id": "b57cc739-30cc-4583-87a8-7777a352c084",
   "metadata": {},
   "outputs": [],
   "source": [
    "media_salarial_por_estado = df.groupby('estado_colaborador')['salario'].mean()\n",
    "\n",
    "# Encontre o estado com a maior média salarial\n",
    "estado_maior_media_salarial = media_salarial_por_estado.idxmax()\n",
    "maior_media_salarial = media_salarial_por_estado.max()\n",
    "\n",
    "print(f\"O estado com a maior média salarial entre os colaboradores é {estado_maior_media_salarial} com uma média salarial de R${maior_media_salarial:.2f}.\")\n"
   ]
  },
  {
   "cell_type": "code",
   "execution_count": null,
   "id": "0891f9c6-adf1-47e8-a8f4-9a36f9b7b5e0",
   "metadata": {},
   "outputs": [],
   "source": [
    "# Agrupe o DataFrame por motivo de licença e calcule a média de duração para cada motivo\n",
    "media_duracao_por_motivo = df.groupby('motivo_licenca')['duracao_licenca'].mean()\n",
    "\n",
    "# Encontre o motivo de licença com a menor média de duração\n",
    "motivo_menor_media_duracao = media_duracao_por_motivo.idxmin()\n",
    "menor_media_duracao = media_duracao_por_motivo.min()\n",
    "\n",
    "print(f\"O motivo de licença com a menor média de duração entre os colaboradores é '{motivo_menor_media_duracao}' com uma média de duração de {menor_media_duracao:.2f} dias.\")\n"
   ]
  },
  {
   "cell_type": "code",
   "execution_count": null,
   "id": "db3e4f2a-35bf-4233-9517-aed46aae5d8e",
   "metadata": {},
   "outputs": [],
   "source": [
    "# Contagem de atendimentos por especialidade\n",
    "contagem_atendimentos_por_especialidade = df['especialidade'].value_counts()\n",
    "\n",
    "# Encontre a especialidade com o maior número de atendimentos\n",
    "especialidade_maior_atendimentos = contagem_atendimentos_por_especialidade.idxmax()\n",
    "maior_numero_atendimentos = contagem_atendimentos_por_especialidade.max()\n",
    "\n",
    "print(f\"A especialidade que realizou o maior número de atendimentos é '{especialidade_maior_atendimentos}' com um total de {maior_numero_atendimentos} atendimentos.\")\n"
   ]
  }
 ],
 "metadata": {
  "kernelspec": {
   "display_name": "venv_coleta_dados",
   "language": "python",
   "name": "venv_coleta_dados"
  },
  "language_info": {
   "codemirror_mode": {
    "name": "ipython",
    "version": 3
   },
   "file_extension": ".py",
   "mimetype": "text/x-python",
   "name": "python",
   "nbconvert_exporter": "python",
   "pygments_lexer": "ipython3",
   "version": "3.11.5"
  }
 },
 "nbformat": 4,
 "nbformat_minor": 5
}
