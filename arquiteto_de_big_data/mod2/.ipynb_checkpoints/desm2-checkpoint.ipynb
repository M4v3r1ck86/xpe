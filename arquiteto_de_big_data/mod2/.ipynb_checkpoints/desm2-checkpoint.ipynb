{
 "cells": [
  {
   "cell_type": "code",
   "execution_count": 2,
   "id": "e6029700-98e0-4046-942a-204de3560eb7",
   "metadata": {},
   "outputs": [],
   "source": [
    "import pandas as pd\n",
    "import os\n",
    "import warnings\n",
    "warnings.filterwarnings('ignore')"
   ]
  },
  {
   "cell_type": "code",
   "execution_count": 3,
   "id": "0dd85563-dfa4-4fd4-99b4-d07b6a1113bf",
   "metadata": {},
   "outputs": [],
   "source": [
    "path = \"C:/Users/jonat/Documents/xpe/arquiteto_de_big_data/mod2/datasets-desm2/dados_jogadores.csv\""
   ]
  },
  {
   "cell_type": "code",
   "execution_count": 8,
   "id": "c0ab48db",
   "metadata": {},
   "outputs": [],
   "source": [
    "df = pd.read_csv(path, sep=';', encoding='latin-1')"
   ]
  },
  {
   "cell_type": "code",
   "execution_count": 10,
   "id": "6d5b5c67-b92d-4a41-826a-dcc6297ec430",
   "metadata": {},
   "outputs": [
    {
     "data": {
      "text/html": [
       "<div>\n",
       "<style scoped>\n",
       "    .dataframe tbody tr th:only-of-type {\n",
       "        vertical-align: middle;\n",
       "    }\n",
       "\n",
       "    .dataframe tbody tr th {\n",
       "        vertical-align: top;\n",
       "    }\n",
       "\n",
       "    .dataframe thead th {\n",
       "        text-align: right;\n",
       "    }\n",
       "</style>\n",
       "<table border=\"1\" class=\"dataframe\">\n",
       "  <thead>\n",
       "    <tr style=\"text-align: right;\">\n",
       "      <th></th>\n",
       "      <th>jogador</th>\n",
       "      <th>genero</th>\n",
       "      <th>data_nascimento</th>\n",
       "      <th>jogo</th>\n",
       "      <th>pais</th>\n",
       "      <th>num_vitorias</th>\n",
       "      <th>num_derrotas</th>\n",
       "      <th>total_partidas</th>\n",
       "    </tr>\n",
       "  </thead>\n",
       "  <tbody>\n",
       "    <tr>\n",
       "      <th>0</th>\n",
       "      <td>jogador 1</td>\n",
       "      <td>Masculino</td>\n",
       "      <td>03/09/1990</td>\n",
       "      <td>Dama</td>\n",
       "      <td>Chile</td>\n",
       "      <td>14.0</td>\n",
       "      <td>0.0</td>\n",
       "      <td>14.0</td>\n",
       "    </tr>\n",
       "    <tr>\n",
       "      <th>1</th>\n",
       "      <td>Jogador 2</td>\n",
       "      <td>Feminino</td>\n",
       "      <td>01/05/1986</td>\n",
       "      <td>Jogo da velha</td>\n",
       "      <td>Chile</td>\n",
       "      <td>39.0</td>\n",
       "      <td>20.0</td>\n",
       "      <td>59.0</td>\n",
       "    </tr>\n",
       "    <tr>\n",
       "      <th>2</th>\n",
       "      <td>Jogador 3</td>\n",
       "      <td>Masculino</td>\n",
       "      <td>04/10/1964</td>\n",
       "      <td>Jogo da velha</td>\n",
       "      <td>Brasil</td>\n",
       "      <td>26.0</td>\n",
       "      <td>3.0</td>\n",
       "      <td>29.0</td>\n",
       "    </tr>\n",
       "    <tr>\n",
       "      <th>3</th>\n",
       "      <td>Jogador 4</td>\n",
       "      <td>Masculino</td>\n",
       "      <td>28/09/1979</td>\n",
       "      <td>Jogo da velha</td>\n",
       "      <td>Argentina</td>\n",
       "      <td>9.0</td>\n",
       "      <td>72.0</td>\n",
       "      <td>81.0</td>\n",
       "    </tr>\n",
       "    <tr>\n",
       "      <th>4</th>\n",
       "      <td>Jogador 5</td>\n",
       "      <td>Masculino</td>\n",
       "      <td>03/09/1978</td>\n",
       "      <td>Dama</td>\n",
       "      <td>Uruguai</td>\n",
       "      <td>1.0</td>\n",
       "      <td>54.0</td>\n",
       "      <td>55.0</td>\n",
       "    </tr>\n",
       "    <tr>\n",
       "      <th>5</th>\n",
       "      <td>Jogador 6</td>\n",
       "      <td>Masculino</td>\n",
       "      <td>04/11/1977</td>\n",
       "      <td>Xadrez</td>\n",
       "      <td>Brasil</td>\n",
       "      <td>88.0</td>\n",
       "      <td>0.0</td>\n",
       "      <td>88.0</td>\n",
       "    </tr>\n",
       "    <tr>\n",
       "      <th>6</th>\n",
       "      <td>Jogador 7</td>\n",
       "      <td>Masculino</td>\n",
       "      <td>11/11/1986</td>\n",
       "      <td>Xadrez</td>\n",
       "      <td>Argentina</td>\n",
       "      <td>53.0</td>\n",
       "      <td>24.0</td>\n",
       "      <td>77.0</td>\n",
       "    </tr>\n",
       "    <tr>\n",
       "      <th>7</th>\n",
       "      <td>Jogador 8</td>\n",
       "      <td>Feminino</td>\n",
       "      <td>18/03/1996</td>\n",
       "      <td>Jogo da velha</td>\n",
       "      <td>Brasil</td>\n",
       "      <td>35.0</td>\n",
       "      <td>27.0</td>\n",
       "      <td>62.0</td>\n",
       "    </tr>\n",
       "    <tr>\n",
       "      <th>8</th>\n",
       "      <td>Jogador 9</td>\n",
       "      <td>Masculino</td>\n",
       "      <td>14/01/1969</td>\n",
       "      <td>Dama</td>\n",
       "      <td>Paraguai</td>\n",
       "      <td>27.0</td>\n",
       "      <td>18.0</td>\n",
       "      <td>45.0</td>\n",
       "    </tr>\n",
       "    <tr>\n",
       "      <th>9</th>\n",
       "      <td>Jogador 10</td>\n",
       "      <td>Masculino</td>\n",
       "      <td>06/05/2004</td>\n",
       "      <td>Xadrez</td>\n",
       "      <td>Chile</td>\n",
       "      <td>4.0</td>\n",
       "      <td>1.0</td>\n",
       "      <td>5.0</td>\n",
       "    </tr>\n",
       "  </tbody>\n",
       "</table>\n",
       "</div>"
      ],
      "text/plain": [
       "      jogador     genero data_nascimento           jogo       pais  \\\n",
       "0   jogador 1  Masculino      03/09/1990           Dama      Chile   \n",
       "1   Jogador 2   Feminino      01/05/1986  Jogo da velha      Chile   \n",
       "2   Jogador 3  Masculino      04/10/1964  Jogo da velha     Brasil   \n",
       "3   Jogador 4  Masculino      28/09/1979  Jogo da velha  Argentina   \n",
       "4   Jogador 5  Masculino      03/09/1978           Dama    Uruguai   \n",
       "5   Jogador 6  Masculino      04/11/1977         Xadrez     Brasil   \n",
       "6   Jogador 7  Masculino      11/11/1986         Xadrez  Argentina   \n",
       "7   Jogador 8   Feminino      18/03/1996  Jogo da velha     Brasil   \n",
       "8   Jogador 9  Masculino      14/01/1969           Dama   Paraguai   \n",
       "9  Jogador 10  Masculino      06/05/2004         Xadrez      Chile   \n",
       "\n",
       "   num_vitorias  num_derrotas  total_partidas  \n",
       "0          14.0           0.0            14.0  \n",
       "1          39.0          20.0            59.0  \n",
       "2          26.0           3.0            29.0  \n",
       "3           9.0          72.0            81.0  \n",
       "4           1.0          54.0            55.0  \n",
       "5          88.0           0.0            88.0  \n",
       "6          53.0          24.0            77.0  \n",
       "7          35.0          27.0            62.0  \n",
       "8          27.0          18.0            45.0  \n",
       "9           4.0           1.0             5.0  "
      ]
     },
     "execution_count": 10,
     "metadata": {},
     "output_type": "execute_result"
    }
   ],
   "source": [
    "df.head(10)"
   ]
  },
  {
   "cell_type": "code",
   "execution_count": 11,
   "id": "97884824",
   "metadata": {},
   "outputs": [
    {
     "name": "stdout",
     "output_type": "stream",
     "text": [
      "<class 'pandas.core.frame.DataFrame'>\n",
      "RangeIndex: 499 entries, 0 to 498\n",
      "Data columns (total 8 columns):\n",
      " #   Column           Non-Null Count  Dtype  \n",
      "---  ------           --------------  -----  \n",
      " 0   jogador          499 non-null    object \n",
      " 1   genero           499 non-null    object \n",
      " 2   data_nascimento  499 non-null    object \n",
      " 3   jogo             499 non-null    object \n",
      " 4   pais             499 non-null    object \n",
      " 5   num_vitorias     491 non-null    float64\n",
      " 6   num_derrotas     494 non-null    float64\n",
      " 7   total_partidas   491 non-null    float64\n",
      "dtypes: float64(3), object(5)\n",
      "memory usage: 31.3+ KB\n"
     ]
    }
   ],
   "source": [
    "df.info()"
   ]
  },
  {
   "cell_type": "code",
   "execution_count": 12,
   "id": "efd6f410",
   "metadata": {},
   "outputs": [
    {
     "data": {
      "text/html": [
       "<div>\n",
       "<style scoped>\n",
       "    .dataframe tbody tr th:only-of-type {\n",
       "        vertical-align: middle;\n",
       "    }\n",
       "\n",
       "    .dataframe tbody tr th {\n",
       "        vertical-align: top;\n",
       "    }\n",
       "\n",
       "    .dataframe thead th {\n",
       "        text-align: right;\n",
       "    }\n",
       "</style>\n",
       "<table border=\"1\" class=\"dataframe\">\n",
       "  <thead>\n",
       "    <tr style=\"text-align: right;\">\n",
       "      <th></th>\n",
       "      <th>num_vitorias</th>\n",
       "      <th>num_derrotas</th>\n",
       "      <th>total_partidas</th>\n",
       "    </tr>\n",
       "  </thead>\n",
       "  <tbody>\n",
       "    <tr>\n",
       "      <th>count</th>\n",
       "      <td>491.000000</td>\n",
       "      <td>494.000000</td>\n",
       "      <td>491.000000</td>\n",
       "    </tr>\n",
       "    <tr>\n",
       "      <th>mean</th>\n",
       "      <td>25.150713</td>\n",
       "      <td>22.872470</td>\n",
       "      <td>47.892057</td>\n",
       "    </tr>\n",
       "    <tr>\n",
       "      <th>std</th>\n",
       "      <td>21.062049</td>\n",
       "      <td>21.326733</td>\n",
       "      <td>28.231452</td>\n",
       "    </tr>\n",
       "    <tr>\n",
       "      <th>min</th>\n",
       "      <td>1.000000</td>\n",
       "      <td>0.000000</td>\n",
       "      <td>1.000000</td>\n",
       "    </tr>\n",
       "    <tr>\n",
       "      <th>25%</th>\n",
       "      <td>8.000000</td>\n",
       "      <td>6.000000</td>\n",
       "      <td>24.000000</td>\n",
       "    </tr>\n",
       "    <tr>\n",
       "      <th>50%</th>\n",
       "      <td>20.000000</td>\n",
       "      <td>16.500000</td>\n",
       "      <td>45.000000</td>\n",
       "    </tr>\n",
       "    <tr>\n",
       "      <th>75%</th>\n",
       "      <td>38.000000</td>\n",
       "      <td>34.000000</td>\n",
       "      <td>73.000000</td>\n",
       "    </tr>\n",
       "    <tr>\n",
       "      <th>max</th>\n",
       "      <td>93.000000</td>\n",
       "      <td>92.000000</td>\n",
       "      <td>100.000000</td>\n",
       "    </tr>\n",
       "  </tbody>\n",
       "</table>\n",
       "</div>"
      ],
      "text/plain": [
       "       num_vitorias  num_derrotas  total_partidas\n",
       "count    491.000000    494.000000      491.000000\n",
       "mean      25.150713     22.872470       47.892057\n",
       "std       21.062049     21.326733       28.231452\n",
       "min        1.000000      0.000000        1.000000\n",
       "25%        8.000000      6.000000       24.000000\n",
       "50%       20.000000     16.500000       45.000000\n",
       "75%       38.000000     34.000000       73.000000\n",
       "max       93.000000     92.000000      100.000000"
      ]
     },
     "execution_count": 12,
     "metadata": {},
     "output_type": "execute_result"
    }
   ],
   "source": [
    "df.describe()"
   ]
  },
  {
   "cell_type": "code",
   "execution_count": null,
   "id": "abb14cf1",
   "metadata": {},
   "outputs": [],
   "source": []
  },
  {
   "cell_type": "raw",
   "id": "55604475",
   "metadata": {},
   "source": [
    "### TRANSFORMANDO AS COLUNAS num_vitorias num_derrotas total_partidas PARA INTEIRO"
   ]
  },
  {
   "cell_type": "code",
   "execution_count": 14,
   "id": "95a6ac56",
   "metadata": {},
   "outputs": [],
   "source": [
    "df['num_vitorias'].fillna(0, inplace=True)\n",
    "df['num_derrotas'].fillna(0, inplace=True)\n",
    "df['total_partidas'].fillna(0, inplace=True)\n",
    "\n",
    "df['num_vitorias'] = df['num_vitorias'].astype(int)\n",
    "df['num_derrotas'] = df['num_derrotas'].astype(int)\n",
    "df['total_partidas'] = df['total_partidas'].astype(int)"
   ]
  },
  {
   "cell_type": "code",
   "execution_count": 15,
   "id": "e796dd6d",
   "metadata": {},
   "outputs": [
    {
     "data": {
      "text/html": [
       "<div>\n",
       "<style scoped>\n",
       "    .dataframe tbody tr th:only-of-type {\n",
       "        vertical-align: middle;\n",
       "    }\n",
       "\n",
       "    .dataframe tbody tr th {\n",
       "        vertical-align: top;\n",
       "    }\n",
       "\n",
       "    .dataframe thead th {\n",
       "        text-align: right;\n",
       "    }\n",
       "</style>\n",
       "<table border=\"1\" class=\"dataframe\">\n",
       "  <thead>\n",
       "    <tr style=\"text-align: right;\">\n",
       "      <th></th>\n",
       "      <th>jogador</th>\n",
       "      <th>genero</th>\n",
       "      <th>data_nascimento</th>\n",
       "      <th>jogo</th>\n",
       "      <th>pais</th>\n",
       "      <th>num_vitorias</th>\n",
       "      <th>num_derrotas</th>\n",
       "      <th>total_partidas</th>\n",
       "    </tr>\n",
       "  </thead>\n",
       "  <tbody>\n",
       "    <tr>\n",
       "      <th>0</th>\n",
       "      <td>jogador 1</td>\n",
       "      <td>Masculino</td>\n",
       "      <td>03/09/1990</td>\n",
       "      <td>Dama</td>\n",
       "      <td>Chile</td>\n",
       "      <td>14</td>\n",
       "      <td>0</td>\n",
       "      <td>14</td>\n",
       "    </tr>\n",
       "    <tr>\n",
       "      <th>1</th>\n",
       "      <td>Jogador 2</td>\n",
       "      <td>Feminino</td>\n",
       "      <td>01/05/1986</td>\n",
       "      <td>Jogo da velha</td>\n",
       "      <td>Chile</td>\n",
       "      <td>39</td>\n",
       "      <td>20</td>\n",
       "      <td>59</td>\n",
       "    </tr>\n",
       "    <tr>\n",
       "      <th>2</th>\n",
       "      <td>Jogador 3</td>\n",
       "      <td>Masculino</td>\n",
       "      <td>04/10/1964</td>\n",
       "      <td>Jogo da velha</td>\n",
       "      <td>Brasil</td>\n",
       "      <td>26</td>\n",
       "      <td>3</td>\n",
       "      <td>29</td>\n",
       "    </tr>\n",
       "    <tr>\n",
       "      <th>3</th>\n",
       "      <td>Jogador 4</td>\n",
       "      <td>Masculino</td>\n",
       "      <td>28/09/1979</td>\n",
       "      <td>Jogo da velha</td>\n",
       "      <td>Argentina</td>\n",
       "      <td>9</td>\n",
       "      <td>72</td>\n",
       "      <td>81</td>\n",
       "    </tr>\n",
       "    <tr>\n",
       "      <th>4</th>\n",
       "      <td>Jogador 5</td>\n",
       "      <td>Masculino</td>\n",
       "      <td>03/09/1978</td>\n",
       "      <td>Dama</td>\n",
       "      <td>Uruguai</td>\n",
       "      <td>1</td>\n",
       "      <td>54</td>\n",
       "      <td>55</td>\n",
       "    </tr>\n",
       "    <tr>\n",
       "      <th>5</th>\n",
       "      <td>Jogador 6</td>\n",
       "      <td>Masculino</td>\n",
       "      <td>04/11/1977</td>\n",
       "      <td>Xadrez</td>\n",
       "      <td>Brasil</td>\n",
       "      <td>88</td>\n",
       "      <td>0</td>\n",
       "      <td>88</td>\n",
       "    </tr>\n",
       "    <tr>\n",
       "      <th>6</th>\n",
       "      <td>Jogador 7</td>\n",
       "      <td>Masculino</td>\n",
       "      <td>11/11/1986</td>\n",
       "      <td>Xadrez</td>\n",
       "      <td>Argentina</td>\n",
       "      <td>53</td>\n",
       "      <td>24</td>\n",
       "      <td>77</td>\n",
       "    </tr>\n",
       "    <tr>\n",
       "      <th>7</th>\n",
       "      <td>Jogador 8</td>\n",
       "      <td>Feminino</td>\n",
       "      <td>18/03/1996</td>\n",
       "      <td>Jogo da velha</td>\n",
       "      <td>Brasil</td>\n",
       "      <td>35</td>\n",
       "      <td>27</td>\n",
       "      <td>62</td>\n",
       "    </tr>\n",
       "    <tr>\n",
       "      <th>8</th>\n",
       "      <td>Jogador 9</td>\n",
       "      <td>Masculino</td>\n",
       "      <td>14/01/1969</td>\n",
       "      <td>Dama</td>\n",
       "      <td>Paraguai</td>\n",
       "      <td>27</td>\n",
       "      <td>18</td>\n",
       "      <td>45</td>\n",
       "    </tr>\n",
       "    <tr>\n",
       "      <th>9</th>\n",
       "      <td>Jogador 10</td>\n",
       "      <td>Masculino</td>\n",
       "      <td>06/05/2004</td>\n",
       "      <td>Xadrez</td>\n",
       "      <td>Chile</td>\n",
       "      <td>4</td>\n",
       "      <td>1</td>\n",
       "      <td>5</td>\n",
       "    </tr>\n",
       "  </tbody>\n",
       "</table>\n",
       "</div>"
      ],
      "text/plain": [
       "      jogador     genero data_nascimento           jogo       pais  \\\n",
       "0   jogador 1  Masculino      03/09/1990           Dama      Chile   \n",
       "1   Jogador 2   Feminino      01/05/1986  Jogo da velha      Chile   \n",
       "2   Jogador 3  Masculino      04/10/1964  Jogo da velha     Brasil   \n",
       "3   Jogador 4  Masculino      28/09/1979  Jogo da velha  Argentina   \n",
       "4   Jogador 5  Masculino      03/09/1978           Dama    Uruguai   \n",
       "5   Jogador 6  Masculino      04/11/1977         Xadrez     Brasil   \n",
       "6   Jogador 7  Masculino      11/11/1986         Xadrez  Argentina   \n",
       "7   Jogador 8   Feminino      18/03/1996  Jogo da velha     Brasil   \n",
       "8   Jogador 9  Masculino      14/01/1969           Dama   Paraguai   \n",
       "9  Jogador 10  Masculino      06/05/2004         Xadrez      Chile   \n",
       "\n",
       "   num_vitorias  num_derrotas  total_partidas  \n",
       "0            14             0              14  \n",
       "1            39            20              59  \n",
       "2            26             3              29  \n",
       "3             9            72              81  \n",
       "4             1            54              55  \n",
       "5            88             0              88  \n",
       "6            53            24              77  \n",
       "7            35            27              62  \n",
       "8            27            18              45  \n",
       "9             4             1               5  "
      ]
     },
     "execution_count": 15,
     "metadata": {},
     "output_type": "execute_result"
    }
   ],
   "source": [
    "df.head(10)"
   ]
  },
  {
   "cell_type": "code",
   "execution_count": 16,
   "id": "77314745",
   "metadata": {},
   "outputs": [
    {
     "name": "stdout",
     "output_type": "stream",
     "text": [
      "<class 'pandas.core.frame.DataFrame'>\n",
      "RangeIndex: 499 entries, 0 to 498\n",
      "Data columns (total 8 columns):\n",
      " #   Column           Non-Null Count  Dtype \n",
      "---  ------           --------------  ----- \n",
      " 0   jogador          499 non-null    object\n",
      " 1   genero           499 non-null    object\n",
      " 2   data_nascimento  499 non-null    object\n",
      " 3   jogo             499 non-null    object\n",
      " 4   pais             499 non-null    object\n",
      " 5   num_vitorias     499 non-null    int32 \n",
      " 6   num_derrotas     499 non-null    int32 \n",
      " 7   total_partidas   499 non-null    int32 \n",
      "dtypes: int32(3), object(5)\n",
      "memory usage: 25.5+ KB\n"
     ]
    }
   ],
   "source": [
    "df.info()"
   ]
  },
  {
   "cell_type": "code",
   "execution_count": null,
   "id": "d4f1fb85",
   "metadata": {},
   "outputs": [],
   "source": []
  },
  {
   "cell_type": "code",
   "execution_count": 18,
   "id": "9ab6dbe4",
   "metadata": {},
   "outputs": [],
   "source": [
    "df['data_nascimento'] = pd.to_datetime(df['data_nascimento'], format='%d/%m/%Y')"
   ]
  },
  {
   "cell_type": "markdown",
   "id": "dbc01abb-b925-4eb1-a92a-b74a45d90d83",
   "metadata": {},
   "source": [
    "## Pergunta 1 \n",
    "## Qual é a idade média dos colaboradores do sexo masculino que estão casados?\n"
   ]
  },
  {
   "cell_type": "code",
   "execution_count": 157,
   "id": "1611b6f9-e683-4e56-8e18-d8bfd295646e",
   "metadata": {},
   "outputs": [
    {
     "data": {
      "text/plain": [
       "42.96"
      ]
     },
     "execution_count": 157,
     "metadata": {},
     "output_type": "execute_result"
    }
   ],
   "source": [
    "filtered_df = df[(df['sexo_colaborador'] == 'Masculino') & (df['estado_civil'] == 'Casado(a)')]\n",
    "\n",
    "filtered_df['idade'] = (pd.to_datetime('today') - pd.to_datetime(filtered_df['data_nascimento'])).dt.days // 365\n",
    "\n",
    "idade_media = filtered_df['idade'].mean()\n",
    "idade_media = round(idade_media, 2)\n",
    "idade_media"
   ]
  },
  {
   "cell_type": "markdown",
   "id": "76dbb1d4-9beb-4cba-abb7-c9784fdce735",
   "metadata": {},
   "source": [
    "## Pergunta 2\n",
    "## Qual é o motivo de licença que foi mais frequentemente solicitado por mulheres com mais de 35 anos?"
   ]
  },
  {
   "cell_type": "code",
   "execution_count": 158,
   "id": "992a279c-7414-474c-95a3-3c133056b357",
   "metadata": {},
   "outputs": [
    {
     "data": {
      "text/plain": [
       "'Comum'"
      ]
     },
     "execution_count": 158,
     "metadata": {},
     "output_type": "execute_result"
    }
   ],
   "source": [
    "\n",
    "df['data_nascimento'] = pd.to_datetime(df['data_nascimento'])\n",
    "\n",
    "filtered_df = df[(df['sexo_colaborador'] == 'Feminino') & (df['data_nascimento'].dt.year < (pd.to_datetime('today').year - 35))]\n",
    "\n",
    "frequent_motivo = filtered_df['motivo_licenca'].value_counts()\n",
    "\n",
    "motivo_mais_frequente = frequent_motivo.idxmax()\n",
    "motivo_mais_frequente\n"
   ]
  },
  {
   "cell_type": "markdown",
   "id": "b01de437-cfc0-4555-90c4-a6c91870c6a1",
   "metadata": {},
   "source": [
    "## Pergunta 3\n",
    "## Qual médico atendeu o maior número de colaboradores do estado de Minas Gerais?\n"
   ]
  },
  {
   "cell_type": "code",
   "execution_count": 159,
   "id": "66fb43ac-0789-4e0e-98aa-f22e21089f1f",
   "metadata": {},
   "outputs": [
    {
     "data": {
      "text/plain": [
       "'Dr. Pedro'"
      ]
     },
     "execution_count": 159,
     "metadata": {},
     "output_type": "execute_result"
    }
   ],
   "source": [
    "filtered_df = df[df['estado_colaborador'] == 'Minas Gerais']\n",
    "\n",
    "contagem_medicos = filtered_df['nome_medico'].value_counts()\n",
    "\n",
    "medico_mais_atendimentos = contagem_medicos.idxmax()\n",
    "medico_mais_atendimentos\n"
   ]
  },
  {
   "cell_type": "markdown",
   "id": "8a296115-00b4-4888-aaa7-8f10b31d68be",
   "metadata": {},
   "source": [
    "## Pergunta 4\n",
    "## Qual estado tem o maior número de pessoas com ensino superior que têm a leitura como hobbie?"
   ]
  },
  {
   "cell_type": "code",
   "execution_count": 160,
   "id": "86511d14-139c-4928-b78e-befdd7935969",
   "metadata": {},
   "outputs": [
    {
     "data": {
      "text/plain": [
       "estado_colaborador\n",
       "Acre                  5\n",
       "Roraima               5\n",
       "Mato Grosso           5\n",
       "Espírito Santo        4\n",
       "Maranhão              4\n",
       "Rondônia              4\n",
       "Pernambuco            4\n",
       "Ceará                 4\n",
       "Sergipe               4\n",
       "Amazonas              3\n",
       "São Paulo             3\n",
       "Distrito Federal      3\n",
       "Paraíba               3\n",
       "Minas Gerais          3\n",
       "Santa Catarina        3\n",
       "Mato Grosso do Sul    3\n",
       "Paraná                2\n",
       "Goiás                 2\n",
       "Tocantins             2\n",
       "Bahia                 1\n",
       "Pará                  1\n",
       "Rio Grande do Sul     1\n",
       "Amapá                 1\n",
       "Rio de Janeiro        1\n",
       "Alagoas               1\n",
       "Name: count, dtype: int64"
      ]
     },
     "execution_count": 160,
     "metadata": {},
     "output_type": "execute_result"
    }
   ],
   "source": [
    "filtered_df = df[(df['escolaridade'] == 'Superior') & (df['hobbie'] == 'Leitura')]\n",
    "\n",
    "# estado_maior_numero_pessoas = filtered_df['estado_colaborador'].value_counts().idxmax()\n",
    "# estado_maior_numero_pessoas\n",
    "\n",
    "contagem_por_estado = filtered_df['estado_colaborador'].value_counts()\n",
    "contagem_por_estado\n"
   ]
  },
  {
   "cell_type": "markdown",
   "id": "2a163f4d-030e-47f6-b02e-cf09f997efe6",
   "metadata": {},
   "source": [
    "## Pergunta 5\n",
    "## Qual é o número de pessoas com ensino superior que são naturais ou pertencem ao estado de Pernambuco?\n"
   ]
  },
  {
   "cell_type": "code",
   "execution_count": 161,
   "id": "025f6c30-04b0-4f75-bcd7-abe5bf83fa5a",
   "metadata": {},
   "outputs": [
    {
     "data": {
      "text/plain": [
       "10"
      ]
     },
     "execution_count": 161,
     "metadata": {},
     "output_type": "execute_result"
    }
   ],
   "source": [
    "filtro_pernambuco = df['estado_colaborador'] == 'Pernambuco'\n",
    "filtro_superior = df['escolaridade'] == 'Superior'\n",
    "total_pernambuco_superior = len(df[filtro_pernambuco & filtro_superior])\n",
    "total_pernambuco_superior\n",
    "\n",
    "\n"
   ]
  },
  {
   "cell_type": "markdown",
   "id": "096eef17-dcbf-48b4-9189-6ea78146b058",
   "metadata": {},
   "source": [
    "## Pergunta 6\n",
    "## Calcule a média de filhos entre todas as pessoas atendidas pelo Dr. Lessa e assinale a alternativa CORRETA."
   ]
  },
  {
   "cell_type": "code",
   "execution_count": 162,
   "id": "bce2c2a1-3cb4-4ced-8826-0f1e9796b9df",
   "metadata": {},
   "outputs": [
    {
     "name": "stdout",
     "output_type": "stream",
     "text": [
      "A média de filhos entre todas as pessoas atendidas é: 2.54\n",
      "A média de filhos para colaboradores do sexo feminino é: 2.38\n",
      "A média de filhos para colaboradores do sexo masculino é: 2.70\n"
     ]
    }
   ],
   "source": [
    "filtered_df = df[df['nome_medico'] == 'Dr. Lessa']\n",
    "\n",
    "media_filhos = filtered_df['qtd_filhos'].mean()\n",
    "\n",
    "media_feminino = filtered_df[filtered_df['sexo_colaborador'] == 'Feminino']['qtd_filhos'].mean()\n",
    "\n",
    "media_masculino = filtered_df[filtered_df['sexo_colaborador'] == 'Masculino']['qtd_filhos'].mean()\n",
    "\n",
    "print(f\"A média de filhos entre todas as pessoas atendidas é: {media_filhos:.2f}\")\n",
    "print(f\"A média de filhos para colaboradores do sexo feminino é: {media_feminino:.2f}\")\n",
    "print(f\"A média de filhos para colaboradores do sexo masculino é: {media_masculino:.2f}\")\n"
   ]
  },
  {
   "cell_type": "markdown",
   "id": "953b1db5-5a13-4f41-943d-2b31d36c282e",
   "metadata": {},
   "source": [
    "#### Resposta:\n",
    "#### A média de filhos entre os colaboradores do sexo masculino é superior à média das colaboradoras do sexo feminino."
   ]
  },
  {
   "cell_type": "markdown",
   "id": "b703e7b0-4f11-4701-9589-e66215b92a5d",
   "metadata": {},
   "source": [
    "## Pergunta 7\n",
    "## Qual colaborador possui o maior salário na base de dados?"
   ]
  },
  {
   "cell_type": "code",
   "execution_count": 163,
   "id": "fefdbb86-3d66-4186-a710-6cdb82ac3def",
   "metadata": {},
   "outputs": [
    {
     "data": {
      "text/html": [
       "<div>\n",
       "<style scoped>\n",
       "    .dataframe tbody tr th:only-of-type {\n",
       "        vertical-align: middle;\n",
       "    }\n",
       "\n",
       "    .dataframe tbody tr th {\n",
       "        vertical-align: top;\n",
       "    }\n",
       "\n",
       "    .dataframe thead th {\n",
       "        text-align: right;\n",
       "    }\n",
       "</style>\n",
       "<table border=\"1\" class=\"dataframe\">\n",
       "  <thead>\n",
       "    <tr style=\"text-align: right;\">\n",
       "      <th></th>\n",
       "      <th>nome_colaborador</th>\n",
       "      <th>salario</th>\n",
       "    </tr>\n",
       "  </thead>\n",
       "  <tbody>\n",
       "    <tr>\n",
       "      <th>0</th>\n",
       "      <td>Nathan Barros</td>\n",
       "      <td>28543.95</td>\n",
       "    </tr>\n",
       "  </tbody>\n",
       "</table>\n",
       "</div>"
      ],
      "text/plain": [
       "  nome_colaborador   salario\n",
       "0    Nathan Barros  28543.95"
      ]
     },
     "execution_count": 163,
     "metadata": {},
     "output_type": "execute_result"
    }
   ],
   "source": [
    "colaborador_maior_salario = df[df['salario'] == df['salario'].max()]\n",
    "\n",
    "colaborador_maior_salario = colaborador_maior_salario[['nome_colaborador', 'salario']]\n",
    "\n",
    "colaborador_maior_salario\n"
   ]
  },
  {
   "cell_type": "markdown",
   "id": "c3b68799-a81a-471f-890d-7bc06ed2009d",
   "metadata": {},
   "source": [
    "## Pergunta 8\n",
    "## Qual estado apresenta a maior média salarial entre os colaboradores?"
   ]
  },
  {
   "cell_type": "code",
   "execution_count": 164,
   "id": "b57cc739-30cc-4583-87a8-7777a352c084",
   "metadata": {},
   "outputs": [
    {
     "name": "stdout",
     "output_type": "stream",
     "text": [
      "O estado com a maior média salarial entre os colaboradores é Minas Gerais com uma média salarial de R$6193.15.\n"
     ]
    }
   ],
   "source": [
    "media_salarial_por_estado = df.groupby('estado_colaborador')['salario'].mean()\n",
    "\n",
    "estado_maior_media_salarial = media_salarial_por_estado.idxmax()\n",
    "maior_media_salarial = media_salarial_por_estado.max()\n",
    "\n",
    "print(f\"O estado com a maior média salarial entre os colaboradores é {estado_maior_media_salarial} com uma média salarial de R${maior_media_salarial:.2f}.\")\n"
   ]
  },
  {
   "cell_type": "markdown",
   "id": "1115aea8-ef90-41f5-8f16-917093c1bf06",
   "metadata": {},
   "source": [
    "## Pergunta 9\n",
    "## Qual licença teve a menor média de duração entre os colaboradores?\n"
   ]
  },
  {
   "cell_type": "code",
   "execution_count": 165,
   "id": "0891f9c6-adf1-47e8-a8f4-9a36f9b7b5e0",
   "metadata": {},
   "outputs": [
    {
     "name": "stdout",
     "output_type": "stream",
     "text": [
      "O motivo de licença com a menor média de duração entre os colaboradores é 'Acidente de trabalho' com uma média de duração de 14.96 dias.\n"
     ]
    }
   ],
   "source": [
    "media_duracao_por_motivo = df.groupby('motivo_licenca')['duracao_licenca'].mean()\n",
    "\n",
    "motivo_menor_media_duracao = media_duracao_por_motivo.idxmin()\n",
    "\n",
    "menor_media_duracao = media_duracao_por_motivo.min()\n",
    "\n",
    "print(f\"O motivo de licença com a menor média de duração entre os colaboradores é '{motivo_menor_media_duracao}' com uma média de duração de {menor_media_duracao:.2f} dias.\")\n"
   ]
  },
  {
   "cell_type": "markdown",
   "id": "dd477ae5-3705-4d95-b464-479770100c2c",
   "metadata": {},
   "source": [
    "## Pergunta 10\n",
    "## Qual especialidade realizou o maior número de atendimentos?\n"
   ]
  },
  {
   "cell_type": "code",
   "execution_count": 166,
   "id": "db3e4f2a-35bf-4233-9517-aed46aae5d8e",
   "metadata": {},
   "outputs": [
    {
     "name": "stdout",
     "output_type": "stream",
     "text": [
      "A especialidade que realizou o maior número de atendimentos é 'Clínico geral' com um total de 253 atendimentos.\n"
     ]
    }
   ],
   "source": [
    "contagem_atendimentos_por_especialidade = df['especialidade'].value_counts()\n",
    "\n",
    "especialidade_maior_atendimentos = contagem_atendimentos_por_especialidade.idxmax()\n",
    "\n",
    "maior_numero_atendimentos = contagem_atendimentos_por_especialidade.max()\n",
    "\n",
    "print(f\"A especialidade que realizou o maior número de atendimentos é '{especialidade_maior_atendimentos}' com um total de {maior_numero_atendimentos} atendimentos.\")\n"
   ]
  },
  {
   "cell_type": "markdown",
   "id": "5ea000fc-17f3-4508-b5ed-df5c2c0f7a4a",
   "metadata": {},
   "source": [
    "# Questoes objetivas"
   ]
  },
  {
   "cell_type": "markdown",
   "id": "81049e27-1594-4756-8ef2-ad2fe278b1df",
   "metadata": {},
   "source": [
    "## Pergunta 11\n",
    "## Sobre os dados não estruturados, todas as afirmativas estão corretas, EXCETO:\n",
    "\n",
    "\n",
    "1. Não são alinhados ou padronizados\n",
    "2. Possuem estrutura flexível e dinâmica\n",
    "3. Possuem estrutura pré-definida\n",
    "4. É encontrado em sites, jornais, áudios, vídeos."
   ]
  },
  {
   "cell_type": "markdown",
   "id": "d900156d-3649-43c9-a9f4-e2da5f875e27",
   "metadata": {},
   "source": [
    "### Resposta: Não são alinhados ou padronizados"
   ]
  },
  {
   "cell_type": "code",
   "execution_count": null,
   "id": "ce3e806a-f8e3-4128-b031-09493901fc9f",
   "metadata": {},
   "outputs": [],
   "source": []
  },
  {
   "cell_type": "markdown",
   "id": "09a047bc-9c39-4ec2-b093-471160b01de7",
   "metadata": {},
   "source": [
    "## Pergunta 12\n",
    "## De acordo com o conceito de Web Semântica, podemos afirmar que:\n",
    "\n",
    "\n",
    "1. Foi pensada para um novo layout nas páginas da internet.\n",
    "2. Deseja tornar as pesquisas mais amplas, trazendo vários resultados diferentes para a mesma pesquisa e, assim, ter mais chances de acertar o desejo do pesquisador.\n",
    "3. Ela visa tornar o browser um assistente que orienta o usuário através de uma interação inteligente.\n",
    "4. Deseja substituir a web tradicional com suas modificações.\n",
    "s."
   ]
  },
  {
   "cell_type": "markdown",
   "id": "a44daad8-a532-4cfd-a82f-010807b923fa",
   "metadata": {},
   "source": [
    "### Resposta: Ela visa tornar o browser um assistente que orienta o usuário através de uma interação inteligente.\n"
   ]
  },
  {
   "cell_type": "code",
   "execution_count": null,
   "id": "5d9c8c13-2d44-48f4-8c7a-06512a695cd8",
   "metadata": {},
   "outputs": [],
   "source": []
  },
  {
   "cell_type": "markdown",
   "id": "9eb80484-4f49-4c74-9705-29b563ca771b",
   "metadata": {},
   "source": [
    "## Pergunta 13\n",
    "## Para instalar uma biblioteca no ambiente de uma virtual env, devemos:\n",
    "1. Utilizar o comando pip install –h + pip list + o nome da biblioteca\n",
    "2. Nenhuma das alternativas.\n",
    "3. Utilizar o comando pip list + python –r + o nome da biblioteca\n",
    "4. Utilizar o comando pip install –p python3 + nome da bibliotecalioteca\n",
    " \n"
   ]
  },
  {
   "cell_type": "markdown",
   "id": "3cfcabad-b161-4ee5-ab8a-9788c89d2513",
   "metadata": {},
   "source": [
    "### Resposta: Nenhuma das alternativas."
   ]
  },
  {
   "cell_type": "markdown",
   "id": "5254e5d3-73f9-4a42-8d02-fbf4ea244c6a",
   "metadata": {},
   "source": [
    "## Pergunta 14\n",
    "## Sobre a  linguagem DCL, é CORRETO afirmar:\n",
    "\n",
    "1. É uma linguagem utilizada para gerenciar permissões de acesso para usuários e objetos.\n",
    "2. É uma linguagem utilizada para controle de transação.\n",
    "3. Nenhuma das alternativas.\n",
    "4. INSERT, SELECT e UPDATE são comandos dessa linguagem.\n",
    "\n"
   ]
  },
  {
   "cell_type": "markdown",
   "id": "27d520a2-45d8-4ca4-baa1-f2cf40aa1bb5",
   "metadata": {},
   "source": [
    "### Resposta: É uma linguagem utilizada para gerenciar permissões de acesso para usuários e objetos.\n",
    "\n"
   ]
  },
  {
   "cell_type": "code",
   "execution_count": null,
   "id": "3ffe2304-6d69-4322-9932-00d4818796f2",
   "metadata": {},
   "outputs": [],
   "source": []
  },
  {
   "cell_type": "markdown",
   "id": "76c96285-18cb-4c36-b196-4f5d7098536c",
   "metadata": {},
   "source": [
    "## Pergunta 15\n",
    "## Qual dos scripts abaixo é utilizado para recuperar o número total de pessoas que responderam à pesquisa e indicaram que gostam de cachorros?\n",
    "    ```\n",
    "    select ae.animal, count(*) total\n",
    "    \n",
    "    from pesquisa p \n",
    "    \n",
    "    inner join animal_estimacao ae \n",
    "    \n",
    "    on p.cod_animal_estimacao = ae.cod_animal_estimacao \n",
    "    \n",
    "    where ae.animal > 'cachorro'\n",
    "    \n",
    "    group by animal\n",
    "\n",
    "    \n",
    "    select ae.animal, count(1) total\n",
    "    \n",
    "    from pesquisa p \n",
    "    \n",
    "    inner join animal_estimacao ae \n",
    "    \n",
    "    on p.cod_animal_estimacao = ae.cod_animal_estimacao \n",
    "    \n",
    "    where ae.animal = 'cachorro'\n",
    "    \n",
    "    group by animal\n",
    "    \n",
    "    \n",
    "    select ae.animal, sum(1) total\n",
    "    \n",
    "    from pesquisa p \n",
    "    \n",
    "    inner join animal_estimacao ae \n",
    "    \n",
    "    on p.cod_animal_estimacao = ae.cod_animal_estimacao \n",
    "    \n",
    "    where ae.animal = 'cachorro'\n",
    "    \n",
    "    group by animal\n",
    "    \n",
    "    \n",
    "    select ae.animal, count(1) total\n",
    "    \n",
    "    from pesquisa p \n",
    "    \n",
    "    inner join animal_estimacao ae \n",
    "    \n",
    "    on p.cod_animal_estimacao = ae.cod_animal_estimacao \n",
    "    \n",
    "    where ae.animal <> 'cachorro'\n",
    "    \n",
    "    group by animal\n",
    "    ```\n",
    "\n",
    "\n",
    "    "
   ]
  },
  {
   "cell_type": "markdown",
   "id": "54a8c261-6627-459e-bc26-59f1966a5672",
   "metadata": {},
   "source": [
    "### Resposta\n",
    "\n",
    "    select ae.animal, count(1) total\n",
    "    \n",
    "    from pesquisa p \n",
    "    \n",
    "    inner join animal_estimacao ae \n",
    "    \n",
    "    on p.cod_animal_estimacao = ae.cod_animal_estimacao \n",
    "    \n",
    "    where ae.animal = 'cachorro'\n",
    "    \n",
    "    group by animal"
   ]
  },
  {
   "cell_type": "markdown",
   "id": "44440ffc",
   "metadata": {},
   "source": [
    "FIM"
   ]
  }
 ],
 "metadata": {
  "kernelspec": {
   "display_name": "venv_coleta_dados",
   "language": "python",
   "name": "venv_coleta_dados"
  },
  "language_info": {
   "codemirror_mode": {
    "name": "ipython",
    "version": 3
   },
   "file_extension": ".py",
   "mimetype": "text/x-python",
   "name": "python",
   "nbconvert_exporter": "python",
   "pygments_lexer": "ipython3",
   "version": "3.11.5"
  }
 },
 "nbformat": 4,
 "nbformat_minor": 5
}
